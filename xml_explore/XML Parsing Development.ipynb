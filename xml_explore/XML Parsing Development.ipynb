{
 "cells": [
  {
   "cell_type": "markdown",
   "metadata": {},
   "source": [
    "## XML Parsing Development\n",
    "## Sean Warlick\n",
    "## July 8, 2016\n",
    "This notebook is where the xml schema of `LocationInfo` XML schemais interactively explored.  We did this in the notebook so that we could only call the API once and develop the code to acess the returned data through trial and error.  The bulk of the code here will be discarded. \n",
    "\n",
    "The git branch with this code will not be merged into the master branch. "
   ]
  },
  {
   "cell_type": "code",
   "execution_count": 4,
   "metadata": {
    "collapsed": true
   },
   "outputs": [],
   "source": [
    "# Import Packages\n",
    "import api_function as api\n",
    "import xml.etree.ElementTree as et "
   ]
  },
  {
   "cell_type": "code",
   "execution_count": 5,
   "metadata": {
    "collapsed": false
   },
   "outputs": [],
   "source": [
    "# Call API\n",
    "x = api.location_api('getNeighborhoodsInCity', \"Seattle\", \"WA\")"
   ]
  },
  {
   "cell_type": "code",
   "execution_count": 6,
   "metadata": {
    "collapsed": false
   },
   "outputs": [
    {
     "data": {
      "text/plain": [
       "str"
      ]
     },
     "execution_count": 6,
     "metadata": {},
     "output_type": "execute_result"
    }
   ],
   "source": [
    "type(x) # data from API is returned as string"
   ]
  },
  {
   "cell_type": "markdown",
   "metadata": {},
   "source": [
    "### Explore Tree Structure For Neighborhoods In City Call"
   ]
  },
  {
   "cell_type": "code",
   "execution_count": 7,
   "metadata": {
    "collapsed": false,
    "scrolled": true
   },
   "outputs": [
    {
     "ename": "NameError",
     "evalue": "name 'tree' is not defined",
     "output_type": "error",
     "traceback": [
      "\u001b[0;31m---------------------------------------------------------------------------\u001b[0m",
      "\u001b[0;31mNameError\u001b[0m                                 Traceback (most recent call last)",
      "\u001b[0;32m<ipython-input-7-05ef5ce79a0a>\u001b[0m in \u001b[0;36m<module>\u001b[0;34m()\u001b[0m\n\u001b[1;32m      1\u001b[0m \u001b[0;31m# Identify Root\u001b[0m\u001b[0;34m\u001b[0m\u001b[0;34m\u001b[0m\u001b[0m\n\u001b[0;32m----> 2\u001b[0;31m \u001b[0mroot\u001b[0m \u001b[0;34m=\u001b[0m \u001b[0mtree\u001b[0m\u001b[0;34m.\u001b[0m\u001b[0mgetroot\u001b[0m\u001b[0;34m(\u001b[0m\u001b[0;34m)\u001b[0m\u001b[0;34m\u001b[0m\u001b[0m\n\u001b[0m\u001b[1;32m      3\u001b[0m \u001b[0;32mprint\u001b[0m \u001b[0mroot\u001b[0m\u001b[0;34m\u001b[0m\u001b[0m\n\u001b[1;32m      4\u001b[0m \u001b[0;34m\u001b[0m\u001b[0m\n\u001b[1;32m      5\u001b[0m \u001b[0;32mfor\u001b[0m \u001b[0mchild\u001b[0m \u001b[0;32min\u001b[0m \u001b[0mroot\u001b[0m\u001b[0;34m:\u001b[0m\u001b[0;34m\u001b[0m\u001b[0m\n",
      "\u001b[0;31mNameError\u001b[0m: name 'tree' is not defined"
     ]
    }
   ],
   "source": [
    "# Identify Root\n",
    "root = tree.getroot()\n",
    "print root\n",
    "\n",
    "for child in root:\n",
    "    print child.tag, child.text"
   ]
  },
  {
   "cell_type": "markdown",
   "metadata": {},
   "source": [
    "We will focus on the response node of the xml schema"
   ]
  },
  {
   "cell_type": "code",
   "execution_count": null,
   "metadata": {
    "collapsed": false
   },
   "outputs": [],
   "source": [
    "response = root.find('response')\n",
    "\n",
    "# Identify tags under response\n",
    "for child in response:\n",
    "    print child.tag, child.attrib, child.text"
   ]
  },
  {
   "cell_type": "code",
   "execution_count": null,
   "metadata": {
    "collapsed": false,
    "scrolled": true
   },
   "outputs": [],
   "source": [
    "# Identify Nodes Under LocationInfo\n",
    "location = response.find('LocationInfo')\n",
    "\n",
    "for child in location:\n",
    "    print child.tag, child.attrib, child.text"
   ]
  },
  {
   "cell_type": "code",
   "execution_count": null,
   "metadata": {
    "collapsed": false
   },
   "outputs": [],
   "source": [
    "# KEEP THIS CODE!\n",
    "test = tree.findall('.//neighborhood') # Note that findall returns a list that we can iterate over. "
   ]
  },
  {
   "cell_type": "code",
   "execution_count": null,
   "metadata": {
    "collapsed": false,
    "scrolled": true
   },
   "outputs": [],
   "source": [
    "print type(test)\n",
    "print test"
   ]
  },
  {
   "cell_type": "code",
   "execution_count": null,
   "metadata": {
    "collapsed": false,
    "scrolled": true
   },
   "outputs": [],
   "source": [
    "# KEEP THIS CODE!\n",
    "storage = list()\n",
    "\n",
    "for neighboorhood in test:\n",
    "    name = neighboorhood.find('name').text\n",
    "    storage.append(name)\n",
    "    \n",
    "print storage\n"
   ]
  },
  {
   "cell_type": "markdown",
   "metadata": {},
   "source": [
    "### Error Testing For `getNeighborhoodsInCity`\n",
    "What does the API return when we make an invalid location call? \n"
   ]
  },
  {
   "cell_type": "code",
   "execution_count": null,
   "metadata": {
    "collapsed": true
   },
   "outputs": [],
   "source": [
    "# Call API\n",
    "x = api.location_api('getNeighborhoodsInCity', \"Seattle\", \"W\")"
   ]
  },
  {
   "cell_type": "code",
   "execution_count": null,
   "metadata": {
    "collapsed": false
   },
   "outputs": [],
   "source": [
    "print x"
   ]
  },
  {
   "cell_type": "markdown",
   "metadata": {},
   "source": [
    "The xml string does not return any neighboorhood tags in the response portion of the tree. We can use this to develop an exception message when the call is bad! This also happens when a location does not have neighborhods; Fort Dodge, IA is an example of a location without neighborhoods. "
   ]
  },
  {
   "cell_type": "code",
   "execution_count": null,
   "metadata": {
    "collapsed": false
   },
   "outputs": [],
   "source": [
    "# Call API\n",
    "x = api.location_api('getNeighborhoodsInCity', \"Washington\", \"DC\")\n",
    "\n",
    "x = et.fromstring(x) # Create Element from string\n",
    "tree = et.ElementTree(x) # Convert Element to Element Tree\n",
    "test2 = tree.findall('.//neighborhood') # Note that findall returns a list that we can iterate over. \n",
    "\n",
    "storage2 = list()\n",
    "for neighborhood in test2:\n",
    "    name = neighborhood.find('name').text\n",
    "    storage2.append(name)\n",
    "    \n",
    "print storage2"
   ]
  },
  {
   "cell_type": "markdown",
   "metadata": {},
   "source": [
    "### Begin Exploring `getZipCodesInState`"
   ]
  },
  {
   "cell_type": "code",
   "execution_count": null,
   "metadata": {
    "collapsed": false
   },
   "outputs": [],
   "source": [
    "y = api.location_api(\"getZipCodesInState\", '', 'WA')"
   ]
  },
  {
   "cell_type": "code",
   "execution_count": null,
   "metadata": {
    "collapsed": false
   },
   "outputs": [],
   "source": [
    "y = et.fromstring(y) # Create Element from string\n",
    "tree2 = et.ElementTree(y) # Convert Element to Element Tree"
   ]
  },
  {
   "cell_type": "code",
   "execution_count": null,
   "metadata": {
    "collapsed": false
   },
   "outputs": [],
   "source": [
    "response = tree2.find('response')\n",
    "\n",
    "# Identify tags under response\n",
    "for child in response:\n",
    "    print child.tag, child.attrib, child.text"
   ]
  },
  {
   "cell_type": "code",
   "execution_count": null,
   "metadata": {
    "collapsed": false,
    "scrolled": true
   },
   "outputs": [],
   "source": [
    "# Identify Nodes Under LocationInfo\n",
    "location = response.find('LocationInfo')\n",
    "\n",
    "for child in location:\n",
    "    print child.tag, child.attrib, child.text"
   ]
  },
  {
   "cell_type": "code",
   "execution_count": null,
   "metadata": {
    "collapsed": false,
    "scrolled": true
   },
   "outputs": [],
   "source": [
    "# KEEP THIS CODE!\n",
    "test3 = tree2.findall('.//zipCode') # Note that findall returns a list that we can iterate over. \n",
    "\n",
    "storage3 = list()\n",
    "\n",
    "for neighboorhood in test3:\n",
    "    name = neighboorhood.find('name').text\n",
    "    storage3.append(name)\n",
    "    \n",
    "print storage3"
   ]
  },
  {
   "cell_type": "markdown",
   "metadata": {},
   "source": [
    "### Determine How To Parse `getCitiesInState`"
   ]
  },
  {
   "cell_type": "code",
   "execution_count": 8,
   "metadata": {
    "collapsed": false
   },
   "outputs": [
    {
     "name": "stdout",
     "output_type": "stream",
     "text": [
      "Avaliable Functions Are: \n",
      "\n",
      "getCitiesInState , \n",
      "\n",
      "getCountiesInState , \n",
      "\n",
      "getNeighborhoodsInCity , \n",
      "\n",
      "getStates , \n",
      "\n",
      "getZipCodesInState , \n",
      "\n"
     ]
    }
   ],
   "source": [
    "api.location_options()"
   ]
  },
  {
   "cell_type": "code",
   "execution_count": 9,
   "metadata": {
    "collapsed": false
   },
   "outputs": [],
   "source": [
    "z = api.location_api('getCitiesInState', '', 'WA')\n"
   ]
  },
  {
   "cell_type": "code",
   "execution_count": 10,
   "metadata": {
    "collapsed": false
   },
   "outputs": [],
   "source": [
    "z = et.fromstring(z) # Create Element from string\n",
    "tree4 = et.ElementTree(z) # Convert Element to Element Tree"
   ]
  },
  {
   "cell_type": "code",
   "execution_count": null,
   "metadata": {
    "collapsed": false
   },
   "outputs": [],
   "source": [
    "response = tree4.find('response')\n",
    "\n",
    "# Identify tags under response\n",
    "for child in response:\n",
    "    print child.tag, child.attrib, child.text"
   ]
  },
  {
   "cell_type": "code",
   "execution_count": null,
   "metadata": {
    "collapsed": false
   },
   "outputs": [],
   "source": [
    "# Identify Nodes Under LocationInfo\n",
    "location = response.find('LocationInfo')\n",
    "\n",
    "for child in location:\n",
    "    print child.tag, child.attrib, child.text"
   ]
  },
  {
   "cell_type": "code",
   "execution_count": null,
   "metadata": {
    "collapsed": false,
    "scrolled": true
   },
   "outputs": [],
   "source": [
    "city_children = location.find('city')\n",
    "\n",
    "for child in city_children:\n",
    "    print child.tag, child.attrib, child.text"
   ]
  },
  {
   "cell_type": "code",
   "execution_count": 12,
   "metadata": {
    "collapsed": false
   },
   "outputs": [
    {
     "name": "stdout",
     "output_type": "stream",
     "text": [
      "{'lat': ['47.0153213540087', '47.0670754986969', '48.7284750027966', '46.5667630006329', '47.6491400024825', '46.7895090227347', '47.804229500508', '48.6306909925682', '47.2938476306373', '47.3588715017099', '47.710334988822', '45.8939344993985', '47.6377334996916', '48.4850878904075', '48.1729969994419', '48.2041499997123', '47.3053284994981', '46.7524054981897', '46.3379588266339', '47.3150396153388', '48.3421590022776', '47.6699831021422', '47.7244890282202', '47.628103503251', '45.707593994714', '47.7611025071871', '46.5985165029495', '45.7827995075463', '46.6244670205562', '48.4814970010845', '47.5853711014863', '48.0742722848101', '47.6120339995241', '48.7554609992159', '46.2690860026671', '45.9956684997196', '48.3866724987386', '45.7146274410531', '48.9160894991714', '47.2829031606052', '48.9861774976414', '48.0118124963383', '47.2118826831207', '47.7777864995128', '47.0173699983329', '47.5543164994697', '48.104324044525', '48.0075335051186', '47.7971865273242', '47.6984499991607', '45.7329339986519', '47.4953185024014', '47.1624169927714', '46.7949080426335', '46.2051595027606', '47.4650664995886', '48.4688289968536', '48.1533699069965', '45.6071240019559', '47.0829299458799', '48.0830134785153', '47.6314525135213', '45.7386269967528', '47.1491620005888', '47.45043849931', '47.5179125126294', '46.2724404803767', '48.1126654987179', '47.8459845102368', '46.2025774778626', '45.750920997352', '46.9697015022645', '46.7224575001534', '46.6668600020119', '46.8070204575934', '47.8660829280922', '47.4962965119376', '45.8009215013348', '48.2878396270939', '46.2709590845665', '46.4131374787211', '46.3859684966152', '47.1935730147828', '48.4541719965551', '47.9725391203089', '47.631987485424', '46.8662010080119', '46.8877020006596', '46.0346115239571', '46.5677959390568', '48.5490559941256', '48.561613980185', '48.5382030107445', '46.6632454887635', '48.3320284838915', '47.1384210059928', '46.9555864848087', '47.7435764990968', '47.6145160160777', '47.9706240355386', '47.7440405041919', '48.2132099676472', '47.3662194975069', '47.7625019009967', '48.3318274539359', '48.9131740046491', '45.661448994124', '48.2499150119678', '47.6690142613061', '46.3155055514948', '47.9642485021973', '48.8323289996725', '47.3997540027711', '46.6878780023742', '47.6491905027665', '46.138629012168', '45.7804845060619', '47.0821922338105', '47.7365935019911', '46.2014010029985', '47.4070270015735', '47.5193865059777', '47.4757519996366', '47.4198275197685', '47.4264159989217', '47.5707844954548', '47.2406554956801', '46.8729079995135', '47.7867255019831', '47.2307724999286', '48.5606149735659', '47.8186813800518', '46.7661174559616', '47.935042176764', '47.0516909985078', '46.9986610025715', '47.0043065001897', '47.9978644915119', '46.9287760906727', '47.6834559977334', '47.2112220158107', '47.3104989984938', '47.5959164935434', '46.6691375025896', '47.7931624658447', '47.9575384950926', '48.9205460007471', '47.615972996034', '47.3844170348348', '47.7689409973323', '47.5687354787006', '47.0886335027384', '47.3087995007764', '45.7172295020791', '48.8506270035712', '47.2314720045863', '46.1765229984183', '47.2298615238195', '45.6835790032731', '46.7500030051044', '47.9538175019736', '47.1211195018652', '47.2689864979931', '47.0799714985697', '48.0229924949395', '48.5541533829501', '47.0038250754458', '46.0669949912209', '48.7470200021055', '47.0794579430434', '47.3389159860339', '48.884985999939', '46.6584655034065', '47.8497241494748', '45.8218009967253', '47.0346830003348', '47.9412104945494', '46.8095654968973', '46.2568000017752', '46.3494995323589', '48.0860384746351', '46.8436430060153', '47.6718964994613', '47.1438234968967', '48.5309784823844', '46.4068268471025', '47.4795955122239', '47.6884574974734', '46.7735569499404', '45.6859880120938', '45.6698320147047', '46.180105992492', '47.4159835012949', '45.7329770010948', '46.9867670001051', '47.2516610010879', '47.6381710696345', '46.3082414999735', '48.3486380004351', '47.8211839773317', '47.7543425095267', '47.7387255050392', '48.7422260421917', '47.5491680040152', '48.0988450015699', '48.1311754985391', '46.9701574908221', '46.6434245464186', '46.010040999886', '46.1344030029762', '48.9216749989161', '47.7549679927843', '46.2056245001854', '47.3355935526494', '48.6047264466457', '47.7318974981658', '47.7972758129256', '47.6877344996027', '46.9908130763024', '45.8237775029044', '47.4040469262696', '45.8661495202196', '48.3908040450066', '46.8143385415582', '47.0605109992898', '48.0453755261042', '48.3232190018372', '47.755308005037', '48.146391495121', '48.2829630082232', '47.6874860271404', '48.3144440300669', '47.3313390025111', '47.9875424979138', '45.6927100113672', '48.0162334985554', '47.3315080017521', '47.2809215017655', '47.3763396260462', '47.1585430013635', '47.1988701151778', '48.034879908271', '47.2834274536029', '47.3261100028781', '47.5895179915491', '46.5649415090851', '45.8064079991131', '47.6542229941955', '46.9672515281564', '48.0482174963706', '46.3605875382172', '46.1425325003927', '46.1699325001724', '45.687363996437', '48.5204894871999', '48.9507330117938', '47.8265685045129', '46.2123824618071', '47.9920954985898', '47.228576530065', '46.9810495019981', '47.8090130013021', '47.5475657554034', '47.8116916014629', '48.9227935013363', '47.4425480020258', '47.3691414993915', '48.5401955019533', '48.6643735940827', '48.7895449992607', '46.911389734472', '48.0303015026905', '47.8581195180161', '45.6918655005815', '48.1549247680958', '46.7358129656837', '47.851709483793', '47.1369730046652', '47.0580225017279', '45.7643935041555', '47.574874497675', '47.6385104932346', '47.5674939993279', '46.5727730090236', '48.8515820438286', '48.8609889237775', '47.174697502994', '47.8624049941608', '45.6571735025227', '47.6864429688863', '47.2530135019652', '45.6580219992264', '47.4624079974052', '47.2251929956954', '47.8774654264734', '46.9732512025241', '46.5687917159659', '47.1420722969794', '47.1993680062284', '46.5305085120172', '48.4209555034865', '45.7313094988028', '47.8000090162966', '46.5674489761176', '47.9134425017266', '46.7308379306416', '46.5812314565205', '46.3614279900915', '47.5531990172624', '48.3585729706871', '47.4024605049985', '48.1662101284165', '48.1855485010728', '47.5308775006543', '48.181370508027', '47.0226455045466', '48.93162746539', '47.4321769982527', '47.4947629883931', '45.6517995246987', '47.8125239974612', '48.1035935000407', '48.4383794995506', '48.2557235012687', '47.8839749971588', '46.9701704950101', '48.915770499036', '47.9435790096452', '48.2968978921264', '47.1304520237128', '46.8394379652796', '47.0836324920928', '46.4963454694728', '46.979713991757', '47.3350410080948', '48.3720950329103', '47.0402840017043', '48.4164184964962', '47.6507440044051', '45.683275001042', '48.9593269092661', '47.0980415012068', '48.2780355009486', '46.8188434902665', '47.6942754225378', '47.0315820267814', '47.2661989872447', '47.9138430682451', '46.9100295055975', '47.1397550008733', '47.5265435112051', '46.2443155007833', '48.0552660195235', '46.5722049387718', '48.9566975004234', '47.8599260008208', '46.4760405142579', '48.1164470011163', '48.1009685818398', '48.0319908775708', '47.9069674997677', '47.5463042821409', '48.1246874994306', '47.7388489977818', '47.1444109997233', '46.2976498941119', '48.0338339969074', '46.2173776127149', '46.728886500461', '47.1851269975965', '47.843762002553', '47.224837198754', '46.8925654929133', '47.3560510014518', '46.682214495436', '47.6708555005692', '47.6955722678668', '47.4896894770116', '48.6479055111143', '46.285156499892', '45.8139475005715', '47.1287055090626', '48.0710371474974', '47.4700100035562', '48.5072799976074', '47.5101435039794', '46.8291270145481', '47.3729299620125', '47.45019998751', '48.4862109858874', '47.232800527902', '45.755968998055', '47.2366044807729', '47.2457925142611', '47.0045651457482', '46.8861195063265', '47.2976704691748', '45.7127380037456', '47.6081219995394', '47.0176520055833', '46.2891430010661', '47.4478210033718', '47.6148699998936', '47.8778775010577', '48.5081313275013', '46.6488574926539', '48.0744725008909', '48.0576560048845', '47.2236319914165', '47.7681190050678', '48.2081375177417', '47.6697420026821', '47.3290230048583', '47.7130186347786', '48.1503895086351', '47.9358346054543', '47.5094470074618', '47.3973359918375', '47.3870399922165', '46.6767715025991', '47.1867390305591', '47.1156754988232', '47.1372474150353', '47.3912955047248', '47.086116999061', '47.4297417083327', '47.6867409997306', '47.30023298342', '48.0558329598398', '47.0880495689368', '48.2061642097908', '46.5192265031845', '47.8665035080911', '47.1735904840666', '45.6986250225299', '48.1103194930491', '48.7198619973684', '47.8865383407109', '48.9960795199995', '47.1690670044065', '46.6051910050571', '47.2047603338593', '46.3132202372369', '47.4905555009724', '47.7218610027449', '47.2264054172442', '47.3373156431654', '47.0519739986085', '47.4786210014621', '47.2249679787245', '46.854737424271', '46.6110649994639', '47.0676779905254', '47.9375399991652', '46.6929306734496', '46.7090179829571', '46.4398430357005', '48.704960039912', '46.369265192606', '46.0427545416662', '47.7277824861732', '47.6099205008531', '47.7021479847596', '45.9953095024231', '47.4770730004931', '48.0608989753908', '46.9929380009458', '48.3510589827187', '46.5550645044982', '47.6812749994178', '46.538727966928', '47.2315249961164', '46.4042745136374', '45.6706909999933', '46.946045999322', '47.3958214743592', '45.7907704983262', '47.6507950061527', '48.0861285013234', '46.269849049044', '46.0812462072712', '46.0680069183712', '47.2130224993381', '46.0845841322402', '45.6804764993997', '46.4343999709343', '46.9687299771729', '48.1702659918405', '45.5781655001443', '46.7526654722443', '47.6491620288097', '47.3385800209349', '48.1051914990374', '47.4272774979437', '46.4085625078487', '47.5792125093153', '48.0042015007483', '46.1716359953507', '46.2566569963685', '46.2952379996368', '46.1768105141498', '46.607307005304', '47.4513805108605', '46.8936665035058', '47.5028704962767', '45.7292279972987', '46.3886699999055', '47.7503040183695', '47.1057065820886', '47.4227039817681', '46.504652078715', '48.4780951476815', '45.659519503706', '47.7525474975088', '45.9220986048933', '47.883106498742', '47.7944685156697', '45.864899046256', '46.6130386509125', '47.6422139419408', '46.948773514939', '46.4083340044077'], 'lon': [<type 'long'>, <type 'long'>, <type 'long'>, <type 'long'>, <type 'long'>, <type 'long'>, <type 'long'>, <type 'long'>, <type 'long'>, <type 'long'>, <type 'long'>, <type 'long'>, <type 'long'>, <type 'long'>, <type 'long'>, <type 'long'>, <type 'long'>, <type 'long'>, <type 'long'>, <type 'long'>, <type 'long'>, <type 'long'>, <type 'long'>, <type 'long'>, <type 'long'>, <type 'long'>, <type 'long'>, <type 'long'>, <type 'long'>, <type 'long'>, <type 'long'>, <type 'long'>, <type 'long'>, <type 'long'>, <type 'long'>, <type 'long'>, <type 'long'>, <type 'long'>, <type 'long'>, <type 'long'>, <type 'long'>, <type 'long'>, <type 'long'>, <type 'long'>, <type 'long'>, <type 'long'>, <type 'long'>, <type 'long'>, <type 'long'>, <type 'long'>, <type 'long'>, <type 'long'>, <type 'long'>, <type 'long'>, <type 'long'>, <type 'long'>, <type 'long'>, <type 'long'>, <type 'long'>, <type 'long'>, <type 'long'>, <type 'long'>, <type 'long'>, <type 'long'>, <type 'long'>, <type 'long'>, <type 'long'>, <type 'long'>, <type 'long'>, <type 'long'>, <type 'long'>, <type 'long'>, <type 'long'>, <type 'long'>, <type 'long'>, <type 'long'>, <type 'long'>, <type 'long'>, <type 'long'>, <type 'long'>, <type 'long'>, <type 'long'>, <type 'long'>, <type 'long'>, <type 'long'>, <type 'long'>, <type 'long'>, <type 'long'>, <type 'long'>, <type 'long'>, <type 'long'>, <type 'long'>, <type 'long'>, <type 'long'>, <type 'long'>, <type 'long'>, <type 'long'>, <type 'long'>, <type 'long'>, <type 'long'>, <type 'long'>, <type 'long'>, <type 'long'>, <type 'long'>, <type 'long'>, <type 'long'>, <type 'long'>, <type 'long'>, <type 'long'>, <type 'long'>, <type 'long'>, <type 'long'>, <type 'long'>, <type 'long'>, <type 'long'>, <type 'long'>, <type 'long'>, <type 'long'>, <type 'long'>, <type 'long'>, <type 'long'>, <type 'long'>, <type 'long'>, <type 'long'>, <type 'long'>, <type 'long'>, <type 'long'>, <type 'long'>, <type 'long'>, <type 'long'>, <type 'long'>, <type 'long'>, <type 'long'>, <type 'long'>, <type 'long'>, <type 'long'>, <type 'long'>, <type 'long'>, <type 'long'>, <type 'long'>, <type 'long'>, <type 'long'>, <type 'long'>, <type 'long'>, <type 'long'>, <type 'long'>, <type 'long'>, <type 'long'>, <type 'long'>, <type 'long'>, <type 'long'>, <type 'long'>, <type 'long'>, <type 'long'>, <type 'long'>, <type 'long'>, <type 'long'>, <type 'long'>, <type 'long'>, <type 'long'>, <type 'long'>, <type 'long'>, <type 'long'>, <type 'long'>, <type 'long'>, <type 'long'>, <type 'long'>, <type 'long'>, <type 'long'>, <type 'long'>, <type 'long'>, <type 'long'>, <type 'long'>, <type 'long'>, <type 'long'>, <type 'long'>, <type 'long'>, <type 'long'>, <type 'long'>, <type 'long'>, <type 'long'>, <type 'long'>, <type 'long'>, <type 'long'>, <type 'long'>, <type 'long'>, <type 'long'>, <type 'long'>, <type 'long'>, <type 'long'>, <type 'long'>, <type 'long'>, <type 'long'>, <type 'long'>, <type 'long'>, <type 'long'>, <type 'long'>, <type 'long'>, <type 'long'>, <type 'long'>, <type 'long'>, <type 'long'>, <type 'long'>, <type 'long'>, <type 'long'>, <type 'long'>, <type 'long'>, <type 'long'>, <type 'long'>, <type 'long'>, <type 'long'>, <type 'long'>, <type 'long'>, <type 'long'>, <type 'long'>, <type 'long'>, <type 'long'>, <type 'long'>, <type 'long'>, <type 'long'>, <type 'long'>, <type 'long'>, <type 'long'>, <type 'long'>, <type 'long'>, <type 'long'>, <type 'long'>, <type 'long'>, <type 'long'>, <type 'long'>, <type 'long'>, <type 'long'>, <type 'long'>, <type 'long'>, <type 'long'>, <type 'long'>, <type 'long'>, <type 'long'>, <type 'long'>, <type 'long'>, <type 'long'>, <type 'long'>, <type 'long'>, <type 'long'>, <type 'long'>, <type 'long'>, <type 'long'>, <type 'long'>, <type 'long'>, <type 'long'>, <type 'long'>, <type 'long'>, <type 'long'>, <type 'long'>, <type 'long'>, <type 'long'>, <type 'long'>, <type 'long'>, <type 'long'>, <type 'long'>, <type 'long'>, <type 'long'>, <type 'long'>, <type 'long'>, <type 'long'>, <type 'long'>, <type 'long'>, <type 'long'>, <type 'long'>, <type 'long'>, <type 'long'>, <type 'long'>, <type 'long'>, <type 'long'>, <type 'long'>, <type 'long'>, <type 'long'>, <type 'long'>, <type 'long'>, <type 'long'>, <type 'long'>, <type 'long'>, <type 'long'>, <type 'long'>, <type 'long'>, <type 'long'>, <type 'long'>, <type 'long'>, <type 'long'>, <type 'long'>, <type 'long'>, <type 'long'>, <type 'long'>, <type 'long'>, <type 'long'>, <type 'long'>, <type 'long'>, <type 'long'>, <type 'long'>, <type 'long'>, <type 'long'>, <type 'long'>, <type 'long'>, <type 'long'>, <type 'long'>, <type 'long'>, <type 'long'>, <type 'long'>, <type 'long'>, <type 'long'>, <type 'long'>, <type 'long'>, <type 'long'>, <type 'long'>, <type 'long'>, <type 'long'>, <type 'long'>, <type 'long'>, <type 'long'>, <type 'long'>, <type 'long'>, <type 'long'>, <type 'long'>, <type 'long'>, <type 'long'>, <type 'long'>, <type 'long'>, <type 'long'>, <type 'long'>, <type 'long'>, <type 'long'>, <type 'long'>, <type 'long'>, <type 'long'>, <type 'long'>, <type 'long'>, <type 'long'>, <type 'long'>, <type 'long'>, <type 'long'>, <type 'long'>, <type 'long'>, <type 'long'>, <type 'long'>, <type 'long'>, <type 'long'>, <type 'long'>, <type 'long'>, <type 'long'>, <type 'long'>, <type 'long'>, <type 'long'>, <type 'long'>, <type 'long'>, <type 'long'>, <type 'long'>, <type 'long'>, <type 'long'>, <type 'long'>, <type 'long'>, <type 'long'>, <type 'long'>, <type 'long'>, <type 'long'>, <type 'long'>, <type 'long'>, <type 'long'>, <type 'long'>, <type 'long'>, <type 'long'>, <type 'long'>, <type 'long'>, <type 'long'>, <type 'long'>, <type 'long'>, <type 'long'>, <type 'long'>, <type 'long'>, <type 'long'>, <type 'long'>, <type 'long'>, <type 'long'>, <type 'long'>, <type 'long'>, <type 'long'>, <type 'long'>, <type 'long'>, <type 'long'>, <type 'long'>, <type 'long'>, <type 'long'>, <type 'long'>, <type 'long'>, <type 'long'>, <type 'long'>, <type 'long'>, <type 'long'>, <type 'long'>, <type 'long'>, <type 'long'>, <type 'long'>, <type 'long'>, <type 'long'>, <type 'long'>, <type 'long'>, <type 'long'>, <type 'long'>, <type 'long'>, <type 'long'>, <type 'long'>, <type 'long'>, <type 'long'>, <type 'long'>, <type 'long'>, <type 'long'>, <type 'long'>, <type 'long'>, <type 'long'>, <type 'long'>, <type 'long'>, <type 'long'>, <type 'long'>, <type 'long'>, <type 'long'>, <type 'long'>, <type 'long'>, <type 'long'>, <type 'long'>, <type 'long'>, <type 'long'>, <type 'long'>, <type 'long'>, <type 'long'>, <type 'long'>, <type 'long'>, <type 'long'>, <type 'long'>, <type 'long'>, <type 'long'>, <type 'long'>, <type 'long'>, <type 'long'>, <type 'long'>, <type 'long'>, <type 'long'>, <type 'long'>, <type 'long'>, <type 'long'>, <type 'long'>, <type 'long'>, <type 'long'>, <type 'long'>, <type 'long'>, <type 'long'>, <type 'long'>, <type 'long'>, <type 'long'>, <type 'long'>, <type 'long'>, <type 'long'>, <type 'long'>, <type 'long'>, <type 'long'>, <type 'long'>, <type 'long'>, <type 'long'>, <type 'long'>, <type 'long'>, <type 'long'>, <type 'long'>, <type 'long'>, <type 'long'>, <type 'long'>, <type 'long'>, <type 'long'>, <type 'long'>, <type 'long'>, <type 'long'>, <type 'long'>, <type 'long'>, <type 'long'>, <type 'long'>, <type 'long'>, <type 'long'>, <type 'long'>, <type 'long'>, <type 'long'>, <type 'long'>, <type 'long'>, <type 'long'>, <type 'long'>, <type 'long'>, <type 'long'>, <type 'long'>, <type 'long'>, <type 'long'>, <type 'long'>, <type 'long'>, <type 'long'>, <type 'long'>, <type 'long'>, <type 'long'>, <type 'long'>, <type 'long'>, <type 'long'>, <type 'long'>, <type 'long'>, <type 'long'>, <type 'long'>, <type 'long'>, <type 'long'>, <type 'long'>, <type 'long'>, <type 'long'>, <type 'long'>, <type 'long'>, <type 'long'>, <type 'long'>, <type 'long'>, <type 'long'>, <type 'long'>, <type 'long'>], 'name': ['Aberdeen', 'Aberdeen Gardens', 'Acme', 'Ahtanum', 'Airway Heights', 'Albion', 'Alderwood Manor', 'Alger', 'Algona', 'Allyn-Grapeview', 'Almira', 'Amboy', 'Ames Lake', 'Anacortes', 'Arlington', 'Arlington Heights', 'Artondale', 'Ashford', 'Asotin', 'Auburn', 'Ault Field', 'Bainbridge Island', 'Bangor Trident Base', 'Banks Lake South', 'Barberton', 'Baring', 'Basin City', 'Battle Ground', 'Bay Center', 'Bay View', 'Beaux Arts Village', 'Bell Hill', 'Bellevue', 'Bellingham', 'Benton City', 'Bickleton', 'Big Lake', 'Bingen', 'Birch Bay', 'Black Diamond', 'Blaine', 'Blyn', 'Bonney Lake', 'Bothell', 'Brady', 'Bremerton', 'Brewster', 'Bridgeport', 'Brier', 'Brinnon', 'Brush Prairie', 'Bryn Mawr-Skyway', 'Buckley', 'Bucoda', 'Burbank', 'Burien', 'Burlington', 'Camano', 'Camas', 'Carbonado', 'Carlsborg', 'Carnation', 'Carson River Valley', 'Cascade Valley', 'Cascade-Fairwood', 'Cashmere', 'Castle Rock', 'Cathan', 'Cathcart', 'Cathlamet', 'Centerville', 'Central Park', 'Centralia', 'Chehalis', 'Chehalis Village', 'Chelan', 'Cheney', 'Cherry Grove', 'Chewelah', 'Chinook', 'Clarkston', 'Clarkston Heights-Vineland', 'Cle Elum', 'Clear Lake', 'Clinton', 'Clyde Hill', 'Cohassett Beach', 'Colfax', 'College Place', 'Colton', 'Colville', 'Conconully', 'Concrete', 'Connell', 'Conway', 'Copalis Beach', 'Cosmopolis', 'Cottage Lake', 'Coulee City', 'Coulee Dam', 'Country Homes', 'Coupeville', 'Covington', 'Creston', 'Cusick', 'Custer', 'Dallesport', 'Darrington', 'Davenport', 'Dayton', 'Deer Park', 'Deming', 'Des Moines', 'Desert Aire', 'Dishman', 'Dixie', 'Dollar Corner', 'DuPont', 'Duvall', 'East Cathlamet', 'East Hill-Meridian', 'East Port Orchard', 'East Renton Highlands', 'East Wenatchee', 'East Wenatchee Bench', 'Eastgate', 'Easton', 'Eatonville', 'Echo Lake', 'Edgewood', 'Edison', 'Edmonds', 'Elbe', 'Electric City', 'Elk Plain', 'Ellensburg', 'Elma', 'Elmer City', 'Endicott', 'Entiat', 'Enumclaw', 'Ephrata', 'Erlands Point-Kitsap Lake', 'Eschbach', 'Esperance', 'Everett', 'Everson', 'Fairchild AFB', 'Fairfield', 'Fairwood', 'Fall City', 'Farmington', 'Federal Way', 'Felida', 'Ferndale', 'Fife', 'Finley', 'Fircrest', 'Five Corners', 'Fords Prairie', 'Forks', 'Fort Lewis', 'Fox Island', 'Frederickson', 'Freeland', 'Friday Harbor', 'Garfield', 'Garrett', 'Geneva', 'George', 'Gig Harbor', 'Glacier', 'Gleed', 'Gold Bar', 'Goldendale', 'Graham', 'Grand Coulee', 'Grand Mound', 'Grandview', 'Granger', 'Granite Falls', 'Grayland', 'Green Acres', 'Greenwater', 'Hamilton', 'Harrah', 'Harrington', 'Hartline', 'Hatton', 'Hazel Dell North', 'Hazel Dell South', 'Highland', 'Hobart', 'Hockinson', 'Hoquiam', 'Humptulips', 'Hunts Point', 'Ilwaco', 'Inchelium', 'Index', 'Indianola', 'Inglewood-Finn Hill', 'Ione', 'Issaquah', 'John Sam Lake', 'Jordan Road-Canyon Creek', 'Junction City', 'Kahlotus', 'Kalama', 'Kelso', 'Kendall', 'Kenmore', 'Kennewick', 'Kent', 'Kettle Falls', 'Kingsgate', 'Kingston', 'Kirkland', 'Kittitas', 'Klickitat', 'Krupp', 'La Center', 'La Conner', 'La Crosse', 'Lacey', 'Lake Bosworth', 'Lake Cavanaugh', 'Lake Forest Park', 'Lake Goodwin', 'Lake Ketchum', 'Lake Marcel-Stillwater', 'Lake McMurray', 'Lake Morton-Berrydale', 'Lake Roesiger', 'Lake Shore', 'Lake Stevens', 'Lakeland North', 'Lakeland South', 'Lakeview', 'Lakewood', 'Lamont', 'Langley', 'Latah', 'Lea Hill', 'Leavenworth', 'Lebam', 'Lewisville', 'Liberty Lake', 'Lind', 'Lochsloy', 'Long Beach', 'Longview', 'Longview Heights', 'Lyle', 'Lyman', 'Lynden', 'Lynnwood', 'Mabton', 'Machias', 'Malden', 'Malone-Porter', 'Maltby', 'Manchester', 'Mansfield', 'Maple Falls', 'Maple Heights-Lake Desire', 'Maple Valley', 'Marblemount', 'Marcus', 'Marietta-Alderwood', 'Markham', 'Marrowstone', 'Martha Lake', 'Maryhill', 'Marysville', 'Mattawa', 'May Creek', 'McChord AFB', 'McCleary', 'Meadow Glade', 'Medical Lake', 'Medina', 'Mercer Island', 'Mesa', 'Metaline', 'Metaline Falls', 'Midland', 'Mill Creek', 'Mill Plain', 'Millwood', 'Milton', 'Minnehaha', 'Mirrormont', 'Moclips', 'Monroe', 'Montesano', 'Morton', 'Moses Lake', 'Moses Lake North', 'Mossyrock', 'Mount Vernon', 'Mount Vista', 'Mountlake Terrace', 'Moxee', 'Mukilteo', 'Naches', 'Napavine', 'Naselle', 'Navy Yard City', 'Neah Bay', 'Neilton', 'Nespelem', 'Nespelem Community', 'Newcastle', 'Newport', 'Nisqually Indian Community', 'Nooksack', 'Normandy Park', 'North Bend', 'North Bonneville', 'North Creek', 'North Marysville', 'North Omak', 'North Stanwood', 'North Sultan', 'North Yelm', 'Northport', 'Northwest Snohomish', 'Oak Harbor', 'Oakesdale', 'Oakville', 'Ocean City', 'Ocean Park', 'Ocean Shores', 'Odessa', 'Okanogan', 'Olympia', 'Omak', 'Opportunity', 'Orchards', 'Oroville', 'Orting', 'Oso', 'Othello', 'Otis Orchards-East Farms', 'Oyehut-Hogans Corner', 'Pacific', 'Paine Field-Lake Stickney', 'Palouse', 'Parkland', 'Parkwood', 'Pasco', 'Pateros', 'Pe Ell', 'Peaceful Valley', 'Picnic Point-North Lynnwood', 'Pomeroy', 'Port Angeles', 'Port Angeles East', 'Port Hadlock-Irondale', 'Port Ludlow', 'Port Orchard', 'Port Townsend', 'Poulsbo', 'Prairie Ridge', 'Prescott', 'Priest Point', 'Prosser', 'Pullman', 'Puyallup', 'Quilcene', 'Quincy', 'Rainier', 'Ravensdale', 'Raymond', 'Reardan', 'Redmond', 'Renton', 'Republic', 'Richland', 'Ridgefield', 'Ritzville', 'River Road', 'Riverbend', 'Riverside', 'Riverton-Boulevard Park', 'Rochester', 'Rock Island', 'Rockford', 'Rockport', 'Ronald', 'Roosevelt', 'Rosalia', 'Roslyn', 'Roy', 'Royal City', 'Ruston', 'Salmon Creek', 'Sammamish', 'Satsop', 'Satus', 'SeaTac', 'Seattle', 'Seattle Hill-Silver Firs', 'Sedro-Woolley', 'Selah', 'Sequim', 'Shaker Church', 'Shelton', 'Shoreline', 'Silvana', 'Silverdale', 'Skokomish', 'Skykomish', 'Smokey Point', 'Snohomish', 'Snoqualmie', 'Snoqualmie Pass', 'Soap Lake', 'South Bend', 'South Cle Elum', 'South Hill', 'South Prairie', 'South Wenatchee', 'Spanaway', 'Spangle', 'Spokane', 'Sprague', 'Springdale', 'St. John', 'Stanwood', 'Starbuck', 'Startup', 'Steilacoom', 'Stevenson', 'Stimson Crossing', 'Sudden Valley', 'Sultan', 'Sumas', 'Summit', 'Summitview', 'Sumner', 'Sunnyside', 'Sunnyslope', 'Suquamish', 'Tacoma', 'Taholah', 'Tanglewilde-Thompson Place', 'Tanner', 'Tekoa', 'Tenino', 'Terrace Heights', 'Thorp', 'Three Lakes', 'Tieton', 'Tokeland', 'Toledo', 'Tonasket', 'Toppenish', 'Touchet', 'Town and Country', 'Tracyton', 'Trentwood', 'Trout Lake', 'Tukwila', 'Tulalip Bay', 'Tumwater', 'Twisp', 'Union Gap', 'Union Hill-Novelty Hill', 'Uniontown', 'University Place', 'Vader', 'Vancouver', 'Vantage', 'Vashon', 'Venersborg', 'Veradale', 'Verlot', 'Waitsburg', 'Walla Walla', 'Walla Walla East', 'Waller', 'Wallula', 'Walnut Grove', 'Wapato', 'Warden', 'Warm Beach', 'Washougal', 'Washtucna', 'Waterville', 'Waverly', 'Weallup Lake', 'Wenatchee', 'West Clarkston-Highland', 'West Lake Sammamish', 'West Lake Stevens', 'West Longview', 'West Pasco', 'West Richland', 'West Side Highway', 'West Valley', 'West Wenatchee', 'Westport', 'White Center', 'White Salmon', 'White Swan', 'Wilbur', 'Wilkeson', 'Wilson Creek', 'Winlock', 'Winthrop', 'Wishram', 'Woodinville', 'Woodland', 'Woods Creek', 'Woodway', 'Yacolt', 'Yakima', 'Yarrow Point', 'Yelm', 'Zillah']}\n"
     ]
    }
   ],
   "source": [
    "# Keep this code it solves the storage problem!\n",
    "city_storage = {\"name\":[], \"lon\":[], \"lat\":[]}\n",
    "\n",
    "city = tree4.findall('.//city')\n",
    "\n",
    "for city_name in city:\n",
    "    name = city_name.find('name').text\n",
    "    city_storage[\"name\"].append(name)\n",
    "    \n",
    "    lon = city_name.find('longitude').text\n",
    "    city_storage[\"lon\"].append(long)\n",
    "\n",
    "    lat = city_name.find('latitude').text\n",
    "    city_storage[\"lat\"].append(lat)\n",
    "print city_storage"
   ]
  },
  {
   "cell_type": "markdown",
   "metadata": {},
   "source": [
    "### Figure out how to parse `getCountiesInState` XML"
   ]
  },
  {
   "cell_type": "code",
   "execution_count": null,
   "metadata": {
    "collapsed": false
   },
   "outputs": [],
   "source": [
    "county = api.location_api('getCountiesInState', '', 'WA') # Call API\n",
    "\n",
    "county = et.fromstring(county) # Create to Element from string\n",
    "county = et.ElementTree(county) # Convert Element to Element Tree\n"
   ]
  },
  {
   "cell_type": "code",
   "execution_count": null,
   "metadata": {
    "collapsed": false
   },
   "outputs": [],
   "source": [
    "county_response = county.find('response')\n",
    "\n",
    "# Identify tags under response\n",
    "for child in county_response:\n",
    "    print child.tag, child.attrib, child.text"
   ]
  },
  {
   "cell_type": "code",
   "execution_count": null,
   "metadata": {
    "collapsed": false,
    "scrolled": true
   },
   "outputs": [],
   "source": [
    "# Identify Nodes Under LocationInfo\n",
    "location = county_response.find('LocationInfo')\n",
    "\n",
    "for child in location:\n",
    "    print child.tag, child.attrib, child.text"
   ]
  },
  {
   "cell_type": "code",
   "execution_count": null,
   "metadata": {
    "collapsed": false
   },
   "outputs": [],
   "source": [
    "location_children = location.find('county')\n",
    "\n",
    "for child in location_children:\n",
    "    print child.tag, child.attrib, child.text"
   ]
  },
  {
   "cell_type": "code",
   "execution_count": null,
   "metadata": {
    "collapsed": false
   },
   "outputs": [],
   "source": [
    "# KEEP THIS CODE\n",
    "county_final = county.findall('.//county')\n",
    "\n",
    "countyName_storage = list()\n",
    "countyLon_storage = list()\n",
    "countyLat_storage = list()\n",
    "\n",
    "for county_name in county_final:\n",
    "    name = county_name.find('name').text\n",
    "    countyName_storage.append(name)\n",
    "    \n",
    "    lon = county_name.find('longitude').text\n",
    "    countyLon_storage.append(lon)\n",
    "    \n",
    "    lat = county_name.find('latitude').text\n",
    "    countyLat_storage.append(lat)    \n",
    "    \n",
    "print countyName_storage[0:5]\n",
    "print countyLon_storage[0:5]\n",
    "print countyLat_storage[0:5]"
   ]
  },
  {
   "cell_type": "code",
   "execution_count": null,
   "metadata": {
    "collapsed": false
   },
   "outputs": [],
   "source": [
    "states = api.location_api(\"getStates\", \"\", \"\")"
   ]
  },
  {
   "cell_type": "code",
   "execution_count": null,
   "metadata": {
    "collapsed": true
   },
   "outputs": [],
   "source": [
    "states = et.fromstring(states) # Create to Element from string\n",
    "states = et.ElementTree(states) # Convert Element to Element Tree"
   ]
  },
  {
   "cell_type": "code",
   "execution_count": null,
   "metadata": {
    "collapsed": true
   },
   "outputs": [],
   "source": [
    "response = states.find('response')"
   ]
  },
  {
   "cell_type": "code",
   "execution_count": null,
   "metadata": {
    "collapsed": false
   },
   "outputs": [],
   "source": [
    "for child in response:\n",
    "    print child.tag, child.attrib, child.text"
   ]
  },
  {
   "cell_type": "code",
   "execution_count": null,
   "metadata": {
    "collapsed": false
   },
   "outputs": [],
   "source": [
    "location = states.find('.//LocationInfo')"
   ]
  },
  {
   "cell_type": "code",
   "execution_count": null,
   "metadata": {
    "collapsed": false
   },
   "outputs": [],
   "source": [
    "for child in location:\n",
    "    print child.tag, child.attrib, child.text"
   ]
  },
  {
   "cell_type": "code",
   "execution_count": null,
   "metadata": {
    "collapsed": false
   },
   "outputs": [],
   "source": [
    "state = states.find('.//state')\n",
    "\n",
    "for child in state:\n",
    "    print child.tag, child.attrib, child.text"
   ]
  },
  {
   "cell_type": "code",
   "execution_count": null,
   "metadata": {
    "collapsed": false
   },
   "outputs": [],
   "source": [
    "# KEEP THIS CODE\n",
    "state_final = states.findall('.//state')\n",
    "\n",
    "stateName = list()\n",
    "stateCode = list()\n",
    "stateLon = list()\n",
    "stateLat = list()\n",
    "\n",
    "for s in state_final:\n",
    "    name = s.find('name').text\n",
    "    stateName.append(name)\n",
    "    \n",
    "    code = s.find('stateCode').text\n",
    "    stateCode.append(code)\n",
    "    \n",
    "    lon = s.find('longitude').text\n",
    "    stateLon.append(lon)\n",
    "    \n",
    "    lat = s.find('latitude').text\n",
    "    stateLat.append(lat)    \n",
    "    \n",
    "print stateName[0:5]\n",
    "print stateCode[0:5]\n",
    "print stateLon[0:5]\n",
    "print stateLat[0:5]"
   ]
  }
 ],
 "metadata": {
  "kernelspec": {
   "display_name": "Python 2",
   "language": "python",
   "name": "python2"
  },
  "language_info": {
   "codemirror_mode": {
    "name": "ipython",
    "version": 2
   },
   "file_extension": ".py",
   "mimetype": "text/x-python",
   "name": "python",
   "nbconvert_exporter": "python",
   "pygments_lexer": "ipython2",
   "version": "2.7.12"
  }
 },
 "nbformat": 4,
 "nbformat_minor": 0
}
