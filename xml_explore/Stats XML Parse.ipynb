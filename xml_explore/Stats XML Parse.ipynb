{
 "cells": [
  {
   "cell_type": "markdown",
   "metadata": {},
   "source": [
    "### XML Parser For Stats Functions  \n",
    "### Sean Warlick  \n",
    "### July 23, 2016\n",
    "\n",
    "This note book is used to develop the code needed to parse the XML returned from the `TruliaStats` library.  We interactively explore the XML to find to aquire the desired data.  A notebook was used so we did not need to continually call the API.  The bulk of the code here will be discarded. \n",
    "\n"
   ]
  },
  {
   "cell_type": "code",
   "execution_count": 1,
   "metadata": {
    "collapsed": true,
    "scrolled": false
   },
   "outputs": [],
   "source": [
    "# This is needed to accomidate the new file structure designed on 8/2\n",
    "import sys\n",
    "sys.path.append('/Users/SeanWarlick/Documents/GitHub/seattle_housing/python')"
   ]
  },
  {
   "cell_type": "code",
   "execution_count": 3,
   "metadata": {
    "collapsed": false,
    "scrolled": false
   },
   "outputs": [],
   "source": [
    "# Import Packages\n",
    "import api_function as api\n",
    "import xml.etree.ElementTree as et "
   ]
  },
  {
   "cell_type": "code",
   "execution_count": 6,
   "metadata": {
    "collapsed": false,
    "scrolled": false
   },
   "outputs": [],
   "source": [
    "state_data = api.state_stats(\"\", \"WA\", '2016-01-01', '2016-01-09', #API KEY HERE)"
   ]
  },
  {
   "cell_type": "code",
   "execution_count": 92,
   "metadata": {
    "collapsed": false,
    "scrolled": false
   },
   "outputs": [
    {
     "name": "stdout",
     "output_type": "stream",
     "text": [
      "<type 'str'>\n"
     ]
    }
   ],
   "source": [
    "print type(state_data)\n",
    "\n",
    "state_data2 = et.fromstring(state_data) # Create Element from string\n",
    "state_tree = et.ElementTree(state_data2) # Convert Element to Element Tree"
   ]
  },
  {
   "cell_type": "code",
   "execution_count": 93,
   "metadata": {
    "collapsed": false,
    "scrolled": true
   },
   "outputs": [
    {
     "name": "stdout",
     "output_type": "stream",
     "text": [
      "<?xml version=\"1.0\"?>\n",
      "<TruliaWebServices><request><Parameter><index>1</index><name>function</name><value>getStateStats</value></Parameter><Parameter><index>2</index><name>city</name><value/></Parameter><Parameter><index>3</index><name>apikey</name><value>53yq9hwphajxg9swpy7cvbkm</value></Parameter><Parameter><index>4</index><name>endDate</name><value>2016-01-09</value></Parameter><Parameter><index>5</index><name>startDate</name><value>2016-01-01</value></Parameter><Parameter><index>6</index><name>library</name><value>TruliaStats</value></Parameter><Parameter><index>7</index><name>state</name><value>WA</value></Parameter><Parameter><index>8</index><name>source</name><value>Webservice</value></Parameter></request><response><TruliaStats><location><stateName>Washington</stateName><stateCode>WA</stateCode><stateURL>http://www.trulia.com/sitemap/Washington-real-estate/</stateURL><heatMapURL>http://www.trulia.com/home_prices/Washington/</heatMapURL></location><trafficStats><trafficStat><date>2016-01-01</date><percentNationalTraffic>2.0668424598</percentNationalTraffic></trafficStat><trafficStat><date>2016-01-02</date><percentNationalTraffic>2.0626666809</percentNationalTraffic></trafficStat><trafficStat><date>2016-01-03</date><percentNationalTraffic>1.9174601053</percentNationalTraffic></trafficStat><trafficStat><date>2016-01-04</date><percentNationalTraffic>1.8742901588</percentNationalTraffic></trafficStat><trafficStat><date>2016-01-05</date><percentNationalTraffic>1.7754850671</percentNationalTraffic></trafficStat><trafficStat><date>2016-01-06</date><percentNationalTraffic>1.8107127378</percentNationalTraffic></trafficStat><trafficStat><date>2016-01-07</date><percentNationalTraffic>1.8036938434</percentNationalTraffic></trafficStat><trafficStat><date>2016-01-08</date><percentNationalTraffic>1.8573790791</percentNationalTraffic></trafficStat><trafficStat><date>2016-01-09</date><percentNationalTraffic>1.9520533534</percentNationalTraffic></trafficStat></trafficStats><listingStats><listingStat><weekEndingDate>2016-01-02</weekEndingDate><listingPrice><subcategory><type>All Properties</type><numberOfProperties>10116</numberOfProperties><medianListingPrice>276757</medianListingPrice><averageListingPrice>383939</averageListingPrice></subcategory><subcategory><type>1 Bedroom Properties</type><numberOfProperties>385</numberOfProperties><medianListingPrice>222936</medianListingPrice><averageListingPrice>324037</averageListingPrice></subcategory><subcategory><type>2 Bedroom Properties</type><numberOfProperties>1847</numberOfProperties><medianListingPrice>209021</medianListingPrice><averageListingPrice>291894</averageListingPrice></subcategory><subcategory><type>3 Bedroom Properties</type><numberOfProperties>4605</numberOfProperties><medianListingPrice>265547</medianListingPrice><averageListingPrice>350119</averageListingPrice></subcategory><subcategory><type>4 Bedroom Properties</type><numberOfProperties>2165</numberOfProperties><medianListingPrice>362697</medianListingPrice><averageListingPrice>479194</averageListingPrice></subcategory><subcategory><type>5 Bedroom Properties</type><numberOfProperties>525</numberOfProperties><medianListingPrice>425050</medianListingPrice><averageListingPrice>587370</averageListingPrice></subcategory><subcategory><type>6 Bedroom Properties</type><numberOfProperties>99</numberOfProperties><medianListingPrice>409350</medianListingPrice><averageListingPrice>767830</averageListingPrice></subcategory><subcategory><type>7 Bedroom Properties</type><numberOfProperties>12</numberOfProperties><medianListingPrice>724825</medianListingPrice><averageListingPrice>757941</averageListingPrice></subcategory><subcategory><type>8 Bedroom Properties</type><numberOfProperties>8</numberOfProperties><medianListingPrice>373214</medianListingPrice><averageListingPrice>518770</averageListingPrice></subcategory><subcategory><type>9 Bedroom Properties</type><numberOfProperties>4</numberOfProperties><medianListingPrice>467250</medianListingPrice><averageListingPrice>554144</averageListingPrice></subcategory></listingPrice></listingStat><listingStat><weekEndingDate>2016-01-09</weekEndingDate><listingPrice><subcategory><type>All Properties</type><numberOfProperties>10354</numberOfProperties><medianListingPrice>280414</medianListingPrice><averageListingPrice>387406</averageListingPrice></subcategory><subcategory><type>1 Bedroom Properties</type><numberOfProperties>396</numberOfProperties><medianListingPrice>246767</medianListingPrice><averageListingPrice>332463</averageListingPrice></subcategory><subcategory><type>2 Bedroom Properties</type><numberOfProperties>1921</numberOfProperties><medianListingPrice>210010</medianListingPrice><averageListingPrice>291917</averageListingPrice></subcategory><subcategory><type>3 Bedroom Properties</type><numberOfProperties>4705</numberOfProperties><medianListingPrice>269111</medianListingPrice><averageListingPrice>352729</averageListingPrice></subcategory><subcategory><type>4 Bedroom Properties</type><numberOfProperties>2216</numberOfProperties><medianListingPrice>364659</medianListingPrice><averageListingPrice>490074</averageListingPrice></subcategory><subcategory><type>5 Bedroom Properties</type><numberOfProperties>531</numberOfProperties><medianListingPrice>462278</medianListingPrice><averageListingPrice>637896</averageListingPrice></subcategory><subcategory><type>6 Bedroom Properties</type><numberOfProperties>90</numberOfProperties><medianListingPrice>484443</medianListingPrice><averageListingPrice>913023</averageListingPrice></subcategory><subcategory><type>7 Bedroom Properties</type><numberOfProperties>7</numberOfProperties><medianListingPrice>1132636</medianListingPrice><averageListingPrice>1114976</averageListingPrice></subcategory><subcategory><type>8 Bedroom Properties</type><numberOfProperties>9</numberOfProperties><medianListingPrice>376786</medianListingPrice><averageListingPrice>695153</averageListingPrice></subcategory><subcategory><type>9 Bedroom Properties</type><numberOfProperties>5</numberOfProperties><medianListingPrice>405643</medianListingPrice><averageListingPrice>472478</averageListingPrice></subcategory></listingPrice></listingStat></listingStats></TruliaStats></response></TruliaWebServices>\n",
      "\n"
     ]
    }
   ],
   "source": [
    "print state_data"
   ]
  },
  {
   "cell_type": "markdown",
   "metadata": {},
   "source": [
    "### Explore Structure in Response Tags\n",
    "TruliaStats is child of interest in the response tag. "
   ]
  },
  {
   "cell_type": "code",
   "execution_count": 94,
   "metadata": {
    "collapsed": false,
    "scrolled": false
   },
   "outputs": [
    {
     "name": "stdout",
     "output_type": "stream",
     "text": [
      "location {} None\n",
      "trafficStats {} None\n",
      "listingStats {} None\n"
     ]
    }
   ],
   "source": [
    "# Find Children in Location Stats\n",
    "state_response = state_tree.find(\".//TruliaStats\")\n",
    "\n",
    "for child in state_response:\n",
    "    print child.tag, child.attrib, child.text"
   ]
  },
  {
   "cell_type": "markdown",
   "metadata": {},
   "source": [
    "There are three nodes under *TruliaStats*.  We will explore these sequentially, starting with trafficStats. "
   ]
  },
  {
   "cell_type": "code",
   "execution_count": 95,
   "metadata": {
    "collapsed": false,
    "scrolled": false
   },
   "outputs": [],
   "source": [
    "traffic = state_tree.find('.//trafficStats')"
   ]
  },
  {
   "cell_type": "code",
   "execution_count": 96,
   "metadata": {
    "collapsed": false,
    "scrolled": true
   },
   "outputs": [
    {
     "name": "stdout",
     "output_type": "stream",
     "text": [
      "trafficStat {} None\n",
      "trafficStat {} None\n",
      "trafficStat {} None\n",
      "trafficStat {} None\n",
      "trafficStat {} None\n",
      "trafficStat {} None\n",
      "trafficStat {} None\n",
      "trafficStat {} None\n",
      "trafficStat {} None\n"
     ]
    }
   ],
   "source": [
    "for child in traffic:\n",
    "    print child.tag, child.attrib, child.text"
   ]
  },
  {
   "cell_type": "markdown",
   "metadata": {},
   "source": [
    "Beneith the *trafficStats* node we have a group of nodes named *trafficStat*.  Now we look at one of these nodes to explore how the data is stored. "
   ]
  },
  {
   "cell_type": "code",
   "execution_count": 97,
   "metadata": {
    "collapsed": false,
    "scrolled": false
   },
   "outputs": [],
   "source": [
    "traffic_data = traffic.find(\"trafficStat\")"
   ]
  },
  {
   "cell_type": "code",
   "execution_count": 98,
   "metadata": {
    "collapsed": false,
    "scrolled": false
   },
   "outputs": [
    {
     "name": "stdout",
     "output_type": "stream",
     "text": [
      "date {} 2016-01-01\n",
      "percentNationalTraffic {} 2.0668424598\n"
     ]
    }
   ],
   "source": [
    "for child in traffic_data:\n",
    "    print child.tag, child.attrib, child.text"
   ]
  },
  {
   "cell_type": "markdown",
   "metadata": {},
   "source": [
    "This is as far down as we need to go on the state traffic data.  We can now develop code to parse all the returned records!.  "
   ]
  },
  {
   "cell_type": "code",
   "execution_count": 99,
   "metadata": {
    "collapsed": false,
    "scrolled": false
   },
   "outputs": [],
   "source": [
    "# KEEP THIS CODE\n",
    "traffic_data_collect = state_tree.findall(\".//trafficStat\")\n",
    "\n",
    "storage = {\"date\":[], \"value\":[]} # Create storage variable\n",
    "\n",
    "for i in traffic_data_collect:\n",
    "    date = i.find(\"date\").text\n",
    "    storage[\"date\"].append(date)\n",
    "    \n",
    "    val = i.find(\"percentNationalTraffic\").text\n",
    "    storage[\"value\"].append(val)\n"
   ]
  },
  {
   "cell_type": "code",
   "execution_count": 100,
   "metadata": {
    "collapsed": false,
    "scrolled": true
   },
   "outputs": [
    {
     "name": "stdout",
     "output_type": "stream",
     "text": [
      "{'date': ['2016-01-01', '2016-01-02', '2016-01-03', '2016-01-04', '2016-01-05', '2016-01-06', '2016-01-07', '2016-01-08', '2016-01-09'], 'value': ['2.0668424598', '2.0626666809', '1.9174601053', '1.8742901588', '1.7754850671', '1.8107127378', '1.8036938434', '1.8573790791', '1.9520533534']}\n"
     ]
    }
   ],
   "source": [
    "print storage"
   ]
  },
  {
   "cell_type": "markdown",
   "metadata": {
    "collapsed": true
   },
   "source": [
    "Now that we have parsed the trafic data we need to explore the listing data. \n",
    "We'll start by finding the children under listing data. "
   ]
  },
  {
   "cell_type": "code",
   "execution_count": 101,
   "metadata": {
    "collapsed": false,
    "scrolled": true
   },
   "outputs": [
    {
     "name": "stdout",
     "output_type": "stream",
     "text": [
      "listingStat {} None\n",
      "listingStat {} None\n"
     ]
    }
   ],
   "source": [
    "listingstats = state_tree.find(\".//listingStats\")\n",
    "for child in listingstats:\n",
    "    print child.tag, child.attrib, child.text"
   ]
  },
  {
   "cell_type": "code",
   "execution_count": 102,
   "metadata": {
    "collapsed": false
   },
   "outputs": [
    {
     "name": "stdout",
     "output_type": "stream",
     "text": [
      "weekEndingDate {} 2016-01-02\n",
      "listingPrice {} None\n"
     ]
    }
   ],
   "source": [
    "listing = state_tree.find(\".//listingStat\")\n",
    "for child in listing:\n",
    "    print child.tag, child.attrib, child.text"
   ]
  },
  {
   "cell_type": "code",
   "execution_count": 103,
   "metadata": {
    "collapsed": false,
    "scrolled": false
   },
   "outputs": [
    {
     "name": "stdout",
     "output_type": "stream",
     "text": [
      "subcategory {} None\n",
      "subcategory {} None\n",
      "subcategory {} None\n",
      "subcategory {} None\n",
      "subcategory {} None\n",
      "subcategory {} None\n",
      "subcategory {} None\n",
      "subcategory {} None\n",
      "subcategory {} None\n",
      "subcategory {} None\n"
     ]
    }
   ],
   "source": [
    "listingPrice = state_tree.find(\".//listingPrice\")\n",
    "for child in listingPrice:\n",
    "    print child.tag, child.attrib, child.text"
   ]
  },
  {
   "cell_type": "code",
   "execution_count": 104,
   "metadata": {
    "collapsed": false
   },
   "outputs": [
    {
     "name": "stdout",
     "output_type": "stream",
     "text": [
      "type {} All Properties\n",
      "numberOfProperties {} 10116\n",
      "medianListingPrice {} 276757\n",
      "averageListingPrice {} 383939\n"
     ]
    }
   ],
   "source": [
    "subcat = state_tree.find(\".//subcategory\")\n",
    "for child in subcat:\n",
    "    print child.tag, child.attrib, child.text"
   ]
  },
  {
   "cell_type": "markdown",
   "metadata": {},
   "source": [
    "The data of interest is with in the subcategory tags.  We also need to keep the text from the weekEndingDate tag.  \n",
    "To correctly parse this we will need to go back up to the listing stat tag.  From there we will obtain the end date which we will use with each listing category"
   ]
  },
  {
   "cell_type": "code",
   "execution_count": 121,
   "metadata": {
    "collapsed": false
   },
   "outputs": [],
   "source": [
    "listing_data = state_tree.findall(\".//listingStat\")\n",
    "\n",
    "storage = {\"date\":[], \"type\":[], \"properties\":[], \"medianPrice\":[], \"avgPrice\":[]}\n",
    "\n",
    "for records in listing_data:\n",
    "    record_date = records.find(\"weekEndingDate\").text # Extract record date\n",
    "    #print record_date\n",
    "    categories = records.findall(\".//subcategory\") # Find all subcategory for the given weekend date\n",
    "    \n",
    "    for category in categories:\n",
    "        storage[\"date\"].append(record_date) \n",
    "\n",
    "        tp = category.find(\"type\").text\n",
    "        storage[\"type\"].append(tp)\n",
    "        \n",
    "        prop = category.find(\"numberOfProperties\").text\n",
    "        storage[\"properties\"].append(prop)\n",
    "        \n",
    "        median = category.find(\"medianListingPrice\").text\n",
    "        storage[\"medianPrice\"].append(median)\n",
    "        \n",
    "        avg = category.find(\"averageListingPrice\").text\n",
    "        storage[\"avgPrice\"].append(avg)\n",
    "        \n",
    "    \n",
    "    "
   ]
  },
  {
   "cell_type": "code",
   "execution_count": 122,
   "metadata": {
    "collapsed": false
   },
   "outputs": [
    {
     "name": "stdout",
     "output_type": "stream",
     "text": [
      "{'date': ['2016-01-02', '2016-01-02', '2016-01-02', '2016-01-02', '2016-01-02', '2016-01-02', '2016-01-02', '2016-01-02', '2016-01-02', '2016-01-02', '2016-01-09', '2016-01-09', '2016-01-09', '2016-01-09', '2016-01-09', '2016-01-09', '2016-01-09', '2016-01-09', '2016-01-09', '2016-01-09'], 'type': ['All Properties', '1 Bedroom Properties', '2 Bedroom Properties', '3 Bedroom Properties', '4 Bedroom Properties', '5 Bedroom Properties', '6 Bedroom Properties', '7 Bedroom Properties', '8 Bedroom Properties', '9 Bedroom Properties', 'All Properties', '1 Bedroom Properties', '2 Bedroom Properties', '3 Bedroom Properties', '4 Bedroom Properties', '5 Bedroom Properties', '6 Bedroom Properties', '7 Bedroom Properties', '8 Bedroom Properties', '9 Bedroom Properties'], 'properties': ['10116', '385', '1847', '4605', '2165', '525', '99', '12', '8', '4', '10354', '396', '1921', '4705', '2216', '531', '90', '7', '9', '5'], 'medianPrice': ['276757', '222936', '209021', '265547', '362697', '425050', '409350', '724825', '373214', '467250', '280414', '246767', '210010', '269111', '364659', '462278', '484443', '1132636', '376786', '405643'], 'avgPrice': ['383939', '324037', '291894', '350119', '479194', '587370', '767830', '757941', '518770', '554144', '387406', '332463', '291917', '352729', '490074', '637896', '913023', '1114976', '695153', '472478']}\n"
     ]
    }
   ],
   "source": [
    "print storage"
   ]
  },
  {
   "cell_type": "markdown",
   "metadata": {},
   "source": [
    "Now we just need to turn this dictonary into an array. "
   ]
  },
  {
   "cell_type": "markdown",
   "metadata": {},
   "source": [
    "### Parsing `getCityStats`"
   ]
  },
  {
   "cell_type": "code",
   "execution_count": 7,
   "metadata": {
    "collapsed": true
   },
   "outputs": [],
   "source": [
    "x = api.city_stats(\"Seattle\", \"WA\", '2016-01-01', '2016-01-09', #API KEY HERE)"
   ]
  },
  {
   "cell_type": "code",
   "execution_count": 10,
   "metadata": {
    "collapsed": false
   },
   "outputs": [],
   "source": [
    "city_data = et.fromstring(x) # Create Element from string\n",
    "city_tree = et.ElementTree(city_data) # Convert Element to Element Tree"
   ]
  },
  {
   "cell_type": "code",
   "execution_count": 11,
   "metadata": {
    "collapsed": false
   },
   "outputs": [],
   "source": [
    "listing_data = city_tree.findall(\".//listingStat\")\n",
    "\n",
    "storage = {\"date\":[], \"type\":[], \"properties\":[], \"medianPrice\":[], \"avgPrice\":[]}\n",
    "for records in listing_data:\n",
    "    record_date = records.find(\"weekEndingDate\").text # Extract record date\n",
    "    #print record_date\n",
    "    categories = records.findall(\".//subcategory\") # Find all subcategory for the given weekend date\n",
    "    \n",
    "    for category in categories:\n",
    "        storage[\"date\"].append(record_date) \n",
    "\n",
    "        tp = category.find(\"type\").text\n",
    "        storage[\"type\"].append(tp)\n",
    "        \n",
    "        prop = category.find(\"numberOfProperties\").text\n",
    "        storage[\"properties\"].append(prop)\n",
    "        \n",
    "        median = category.find(\"medianListingPrice\").text\n",
    "        storage[\"medianPrice\"].append(median)\n",
    "        \n",
    "        avg = category.find(\"averageListingPrice\").text\n",
    "        storage[\"avgPrice\"].append(avg)"
   ]
  },
  {
   "cell_type": "code",
   "execution_count": 12,
   "metadata": {
    "collapsed": false
   },
   "outputs": [
    {
     "name": "stdout",
     "output_type": "stream",
     "text": [
      "{'date': ['2016-01-02', '2016-01-02', '2016-01-02', '2016-01-02', '2016-01-02', '2016-01-02', '2016-01-02', '2016-01-02', '2016-01-09', '2016-01-09', '2016-01-09', '2016-01-09', '2016-01-09', '2016-01-09', '2016-01-09'], 'type': ['All Properties', '1 Bedroom Properties', '2 Bedroom Properties', '3 Bedroom Properties', '4 Bedroom Properties', '5 Bedroom Properties', '6 Bedroom Properties', '9 Bedroom Properties', 'All Properties', '1 Bedroom Properties', '2 Bedroom Properties', '3 Bedroom Properties', '4 Bedroom Properties', '5 Bedroom Properties', '6 Bedroom Properties'], 'properties': ['505', '112', '150', '146', '58', '23', '4', '1', '512', '121', '156', '135', '66', '20', '5'], 'medianPrice': ['572496', '494264', '599521', '581407', '735357', '735568', '1849000', '1299922', '578400', '501379', '586200', '601046', '830857', '725107', '1420643'], 'avgPrice': ['758123', '495308', '715344', '752994', '1011508', '1002964', '1868750', '1299922', '751255', '498348', '698709', '794528', '1058539', '852762', '1729408']}\n"
     ]
    }
   ],
   "source": [
    "print storage"
   ]
  },
  {
   "cell_type": "code",
   "execution_count": null,
   "metadata": {
    "collapsed": true
   },
   "outputs": [],
   "source": []
  }
 ],
 "metadata": {
  "kernelspec": {
   "display_name": "Python 2",
   "language": "python",
   "name": "python2"
  },
  "language_info": {
   "codemirror_mode": {
    "name": "ipython",
    "version": 2
   },
   "file_extension": ".py",
   "mimetype": "text/x-python",
   "name": "python",
   "nbconvert_exporter": "python",
   "pygments_lexer": "ipython2",
   "version": "2.7.12"
  }
 },
 "nbformat": 4,
 "nbformat_minor": 0
}
