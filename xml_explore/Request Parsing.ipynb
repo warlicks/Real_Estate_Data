{
 "cells": [
  {
   "cell_type": "markdown",
   "metadata": {},
   "source": [
    "## XML Parsing Development\n",
    "## Sean Warlick\n",
    "## July 8, 2016\n",
    "This notebook is where the request portion of the XML scheam is interactively explored.  We did this in the notebook so that we could only call the API once and develop the code to acess the returned data through trial and error.  The bulk of the code here will be discarded. \n",
    "\n",
    "The git branch with this code will not be merged into the master branch. "
   ]
  },
  {
   "cell_type": "code",
   "execution_count": 9,
   "metadata": {
    "collapsed": true
   },
   "outputs": [],
   "source": [
    "# Import Packages\n",
    "import api_function as api\n",
    "import xml.etree.ElementTree as et "
   ]
  },
  {
   "cell_type": "code",
   "execution_count": 10,
   "metadata": {
    "collapsed": true
   },
   "outputs": [],
   "source": [
    "# Call API\n",
    "x = api.location_api('getNeighborhoodsInCity', \"Seattle\", \"WA\")"
   ]
  },
  {
   "cell_type": "code",
   "execution_count": 11,
   "metadata": {
    "collapsed": true
   },
   "outputs": [],
   "source": [
    "x = et.fromstring(x) # Create Element from string\n",
    "tree = et.ElementTree(x) # Convert Element to Element Tree"
   ]
  },
  {
   "cell_type": "markdown",
   "metadata": {},
   "source": [
    "#### Explore Request Part of Returned Data"
   ]
  },
  {
   "cell_type": "code",
   "execution_count": 12,
   "metadata": {
    "collapsed": false
   },
   "outputs": [
    {
     "name": "stdout",
     "output_type": "stream",
     "text": [
      "Parameter {} None\n",
      "Parameter {} None\n",
      "Parameter {} None\n",
      "Parameter {} None\n",
      "Parameter {} None\n",
      "Parameter {} None\n"
     ]
    }
   ],
   "source": [
    "request = tree.find(\"request\")\n",
    "\n",
    "for child in request:\n",
    "    print child.tag, child.attrib, child.text"
   ]
  },
  {
   "cell_type": "code",
   "execution_count": 13,
   "metadata": {
    "collapsed": false
   },
   "outputs": [
    {
     "name": "stdout",
     "output_type": "stream",
     "text": [
      "index\n",
      "name\n",
      "value\n"
     ]
    }
   ],
   "source": [
    "parameteres = request.find('Parameter')\n",
    "\n",
    "for p in parameteres:\n",
    "    print p.tag"
   ]
  },
  {
   "cell_type": "code",
   "execution_count": 14,
   "metadata": {
    "collapsed": false
   },
   "outputs": [
    {
     "name": "stdout",
     "output_type": "stream",
     "text": [
      "getNeighborhoodsInCity\n"
     ]
    }
   ],
   "source": [
    "# Keep this code!\n",
    "parameters = tree.findall(\".//Parameter\")\n",
    "\n",
    "\n",
    "for p in parameters:\n",
    "    if p.find(\"name\").text == 'function':\n",
    "        function = p.find('value').text\n",
    "    else:\n",
    "        next\n",
    "\n",
    "print function"
   ]
  },
  {
   "cell_type": "code",
   "execution_count": null,
   "metadata": {
    "collapsed": true
   },
   "outputs": [],
   "source": []
  }
 ],
 "metadata": {
  "kernelspec": {
   "display_name": "Python 2",
   "language": "python",
   "name": "python2"
  },
  "language_info": {
   "codemirror_mode": {
    "name": "ipython",
    "version": 2
   },
   "file_extension": ".py",
   "mimetype": "text/x-python",
   "name": "python",
   "nbconvert_exporter": "python",
   "pygments_lexer": "ipython2",
   "version": "2.7.12"
  }
 },
 "nbformat": 4,
 "nbformat_minor": 0
}
