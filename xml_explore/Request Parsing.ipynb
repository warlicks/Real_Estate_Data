{
 "cells": [
  {
   "cell_type": "markdown",
   "metadata": {},
   "source": [
    "## XML Parsing Development\n",
    "## Sean Warlick\n",
    "## July 8, 2016\n",
    "This notebook is where the request portion of the XML scheam is interactively explored.  We did this in the notebook so that we could only call the API once and develop the code to acess the returned data through trial and error.  The bulk of the code here will be discarded. \n",
    "\n",
    "The git branch with this code will not be merged into the master branch. "
   ]
  },
  {
   "cell_type": "code",
   "execution_count": 1,
   "metadata": {
    "collapsed": true
   },
   "outputs": [],
   "source": [
    "# This is needed to accomidate the new file structure designed on 8/2\n",
    "import sys\n",
    "sys.path.append('/Users/SeanWarlick/Documents/GitHub/Real_Estate_Data/python')"
   ]
  },
  {
   "cell_type": "code",
   "execution_count": 2,
   "metadata": {
    "collapsed": true
   },
   "outputs": [],
   "source": [
    "# Import Packages\n",
    "import api as key\n",
    "import api_function as api\n",
    "import xml.etree.ElementTree as et "
   ]
  },
  {
   "cell_type": "code",
   "execution_count": 10,
   "metadata": {
    "collapsed": true
   },
   "outputs": [],
   "source": [
    "# Call API\n",
    "x = api.location_api('getNeighborhoodsInCity', \"Seattle\", \"WA\")"
   ]
  },
  {
   "cell_type": "code",
   "execution_count": 11,
   "metadata": {
    "collapsed": true
   },
   "outputs": [],
   "source": [
    "x = et.fromstring(x) # Create Element from string\n",
    "tree = et.ElementTree(x) # Convert Element to Element Tree"
   ]
  },
  {
   "cell_type": "markdown",
   "metadata": {},
   "source": [
    "#### Explore Request Part of Returned Data"
   ]
  },
  {
   "cell_type": "code",
   "execution_count": 12,
   "metadata": {
    "collapsed": false
   },
   "outputs": [
    {
     "name": "stdout",
     "output_type": "stream",
     "text": [
      "Parameter {} None\n",
      "Parameter {} None\n",
      "Parameter {} None\n",
      "Parameter {} None\n",
      "Parameter {} None\n",
      "Parameter {} None\n"
     ]
    }
   ],
   "source": [
    "request = tree.find(\"request\")\n",
    "\n",
    "for child in request:\n",
    "    print child.tag, child.attrib, child.text"
   ]
  },
  {
   "cell_type": "code",
   "execution_count": 13,
   "metadata": {
    "collapsed": false
   },
   "outputs": [
    {
     "name": "stdout",
     "output_type": "stream",
     "text": [
      "index\n",
      "name\n",
      "value\n"
     ]
    }
   ],
   "source": [
    "parameteres = request.find('Parameter')\n",
    "\n",
    "for p in parameteres:\n",
    "    print p.tag"
   ]
  },
  {
   "cell_type": "code",
   "execution_count": 14,
   "metadata": {
    "collapsed": false
   },
   "outputs": [
    {
     "name": "stdout",
     "output_type": "stream",
     "text": [
      "getNeighborhoodsInCity\n"
     ]
    }
   ],
   "source": [
    "# Keep this code!\n",
    "parameters = tree.findall(\".//Parameter\")\n",
    "\n",
    "\n",
    "for p in parameters:\n",
    "    if p.find(\"name\").text == 'function':\n",
    "        function = p.find('value').text\n",
    "    else:\n",
    "        next\n",
    "\n",
    "print function"
   ]
  },
  {
   "cell_type": "markdown",
   "metadata": {
    "collapsed": true
   },
   "source": [
    "## Listing Stats Request Parsing\n",
    "We should looking at the XML structure of the listing statistics we should be able to use the same algorithim to parse all of the function calls.  To make is clear what data we are looking at we will put a location column into the storage output"
   ]
  },
  {
   "cell_type": "code",
   "execution_count": 4,
   "metadata": {
    "collapsed": false
   },
   "outputs": [],
   "source": [
    "x = api.state_stats(\"WA\", '2016-01-01', '2016-01-09', key._apiKey)"
   ]
  },
  {
   "cell_type": "code",
   "execution_count": 5,
   "metadata": {
    "collapsed": true
   },
   "outputs": [],
   "source": [
    "x = et.fromstring(x) # Create Element from string\n",
    "tree = et.ElementTree(x) # Convert Element to Element Tree"
   ]
  },
  {
   "cell_type": "code",
   "execution_count": 11,
   "metadata": {
    "collapsed": false
   },
   "outputs": [
    {
     "name": "stdout",
     "output_type": "stream",
     "text": [
      "function 1\n",
      "startDate 2\n",
      "apikey 3\n",
      "endDate 4\n",
      "library 5\n",
      "state 6\n",
      "source 7\n"
     ]
    }
   ],
   "source": [
    "parameters = tree.findall(\".//Parameter\")\n",
    "for p in parameters:\n",
    "    print p.find(\"name\").text, p.find(\"index\").text"
   ]
  },
  {
   "cell_type": "code",
   "execution_count": 12,
   "metadata": {
    "collapsed": false
   },
   "outputs": [
    {
     "name": "stdout",
     "output_type": "stream",
     "text": [
      "function 1\n",
      "startDate 2\n",
      "apikey 3\n",
      "endDate 4\n",
      "zipCode 5\n",
      "library 6\n",
      "source 7\n"
     ]
    }
   ],
   "source": [
    "x2 = api.zip_stats('98115', '2016-01-01', '2016-01-09', key._apiKey)\n",
    "x2 = et.fromstring(x2) # Create Element from string\n",
    "tree2 = et.ElementTree(x2) # Convert Element to Element Tree\n",
    "\n",
    "parameters = tree2.findall(\".//Parameter\")\n",
    "for p in parameters:\n",
    "    print p.find(\"name\").text, p.find(\"index\").text"
   ]
  },
  {
   "cell_type": "code",
   "execution_count": 13,
   "metadata": {
    "collapsed": false
   },
   "outputs": [
    {
     "name": "stdout",
     "output_type": "stream",
     "text": [
      "function 1\n",
      "city 2\n",
      "apikey 3\n",
      "endDate 4\n",
      "startDate 5\n",
      "library 6\n",
      "state 7\n",
      "source 8\n"
     ]
    }
   ],
   "source": [
    "x3 = api.city_stats(\"Washington\", \"DC\", '2016-01-01', '2016-01-09', key._apiKey)\n",
    "\n",
    "x3 = et.fromstring(x3) # Create Element from string\n",
    "tree3 = et.ElementTree(x3) # Convert Element to Element Tree\n",
    "\n",
    "parameters = tree3.findall(\".//Parameter\")\n",
    "for p in parameters:\n",
    "    print p.find(\"name\").text, p.find(\"index\").text"
   ]
  },
  {
   "cell_type": "markdown",
   "metadata": {},
   "source": [
    "The xml schema for the request information is not all that clean.  We should try to look at the response tags to see if there is consistent location information there that can be parsed using the same \"algorithim\" for each type of statistics. "
   ]
  },
  {
   "cell_type": "code",
   "execution_count": 16,
   "metadata": {
    "collapsed": false
   },
   "outputs": [
    {
     "name": "stdout",
     "output_type": "stream",
     "text": [
      "stateName {} Washington\n",
      "stateCode {} WA\n",
      "stateURL {} http://www.trulia.com/sitemap/Washington-real-estate/\n",
      "heatMapURL {} http://www.trulia.com/home_prices/Washington/\n"
     ]
    }
   ],
   "source": [
    "#STATE STATS\n",
    "s = tree.find(\".//TruliaStats/location\")\n",
    "for child in s:\n",
    "    print child.tag, child.attrib, child.text"
   ]
  },
  {
   "cell_type": "code",
   "execution_count": 17,
   "metadata": {
    "collapsed": false
   },
   "outputs": [
    {
     "name": "stdout",
     "output_type": "stream",
     "text": [
      "zipCode {} 98115\n",
      "state {} WA\n",
      "searchResultsURL {} http://www.trulia.com/WA/Seattle/98115/\n",
      "heatMapURL {} http://www.trulia.com/home_prices/Washington/King_County-heat_map/\n"
     ]
    }
   ],
   "source": [
    "#ZIPCODE STATS\n",
    "s = tree2.find(\".//TruliaStats/location\")\n",
    "for child in s:\n",
    "    print child.tag, child.attrib, child.text"
   ]
  },
  {
   "cell_type": "code",
   "execution_count": 18,
   "metadata": {
    "collapsed": false
   },
   "outputs": [
    {
     "name": "stdout",
     "output_type": "stream",
     "text": [
      "city {} Washington\n",
      "state {} DC\n",
      "searchResultsURL {} http://www.trulia.com/DC/Washington/\n",
      "cityGuideURL {} http://www.trulia.com/real_estate/Washington-District_Of_Columbia/\n",
      "heatMapURL {} http://www.trulia.com/home_prices/District_Of_Columbia/Washington-heat_map/\n"
     ]
    }
   ],
   "source": [
    "#CITYSTATS\n",
    "s = tree3.find(\".//TruliaStats/location\")\n",
    "for child in s:\n",
    "    print child.tag, child.attrib, child.text"
   ]
  },
  {
   "cell_type": "code",
   "execution_count": null,
   "metadata": {
    "collapsed": true
   },
   "outputs": [],
   "source": []
  },
  {
   "cell_type": "code",
   "execution_count": 24,
   "metadata": {
    "collapsed": false
   },
   "outputs": [],
   "source": [
    "parameters = tree.findall(\".//Parameter\")\n",
    "\n",
    "# There are multiple Parameter nodes, we need to find the child name is \"function\"\n",
    "for p in parameters:\n",
    "    if p.find(\"name\").text == 'function':\n",
    "        function = p.find('value').text\n",
    "    else:\n",
    "        next "
   ]
  },
  {
   "cell_type": "code",
   "execution_count": 25,
   "metadata": {
    "collapsed": false
   },
   "outputs": [
    {
     "name": "stdout",
     "output_type": "stream",
     "text": [
      "WA\n"
     ]
    }
   ],
   "source": [
    "if function == 'getStateStats':\n",
    "    state = tree.find(\".//TruliaStats/location/stateCode\").text\n",
    "else:\n",
    "    state = tree.find(\".//TruliaStats/location/stateCode\").text\n",
    "\n",
    "print state"
   ]
  },
  {
   "cell_type": "code",
   "execution_count": null,
   "metadata": {
    "collapsed": true
   },
   "outputs": [],
   "source": []
  }
 ],
 "metadata": {
  "kernelspec": {
   "display_name": "Python 2",
   "language": "python",
   "name": "python2"
  },
  "language_info": {
   "codemirror_mode": {
    "name": "ipython",
    "version": 2
   },
   "file_extension": ".py",
   "mimetype": "text/x-python",
   "name": "python",
   "nbconvert_exporter": "python",
   "pygments_lexer": "ipython2",
   "version": "2.7.12"
  }
 },
 "nbformat": 4,
 "nbformat_minor": 0
}
