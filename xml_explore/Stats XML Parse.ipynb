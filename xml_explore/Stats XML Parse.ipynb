{
 "cells": [
  {
   "cell_type": "markdown",
   "metadata": {},
   "source": [
    "### XML Parser For Stats Functions  \n",
    "### Sean Warlick  \n",
    "### July 23, 2016\n",
    "\n",
    "This note book is used to develop the code needed to parse the XML returned from the `TruliaStats` library.  We interactively explore the XML to find to aquire the desired data.  A notebook was used so we did not need to continually call the API.  The bulk of the code here will be discarded. \n",
    "\n"
   ]
  },
  {
   "cell_type": "code",
   "execution_count": null,
   "metadata": {
    "collapsed": true,
    "scrolled": false
   },
   "outputs": [],
   "source": [
    "# This is needed to accomidate the new file structure designed on 8/2\n",
    "import sys\n",
    "sys.path.append('/Users/SeanWarlick/Documents/GitHub/Real_Estate_Data/python')"
   ]
  },
  {
   "cell_type": "code",
   "execution_count": null,
   "metadata": {
    "collapsed": false,
    "scrolled": false
   },
   "outputs": [],
   "source": [
    "# Import Packages\n",
    "import api_function as api\n",
    "import xml.etree.ElementTree as et "
   ]
  },
  {
   "cell_type": "code",
   "execution_count": null,
   "metadata": {
    "collapsed": false,
    "scrolled": false
   },
   "outputs": [],
   "source": [
    "state_data = api.state_stats(\"\", \"WA\", '2016-01-01', '2016-01-09', #API KEY HERE)"
   ]
  },
  {
   "cell_type": "code",
   "execution_count": null,
   "metadata": {
    "collapsed": false,
    "scrolled": false
   },
   "outputs": [],
   "source": [
    "print type(state_data)\n",
    "\n",
    "state_data2 = et.fromstring(state_data) # Create Element from string\n",
    "state_tree = et.ElementTree(state_data2) # Convert Element to Element Tree"
   ]
  },
  {
   "cell_type": "code",
   "execution_count": null,
   "metadata": {
    "collapsed": false,
    "scrolled": true
   },
   "outputs": [],
   "source": [
    "#print state_data"
   ]
  },
  {
   "cell_type": "markdown",
   "metadata": {},
   "source": [
    "### Explore Structure in Response Tags\n",
    "TruliaStats is child of interest in the response tag. "
   ]
  },
  {
   "cell_type": "code",
   "execution_count": null,
   "metadata": {
    "collapsed": false,
    "scrolled": false
   },
   "outputs": [],
   "source": [
    "# Find Children in Location Stats\n",
    "state_response = state_tree.find(\".//TruliaStats\")\n",
    "\n",
    "for child in state_response:\n",
    "    print child.tag, child.attrib, child.text"
   ]
  },
  {
   "cell_type": "markdown",
   "metadata": {},
   "source": [
    "There are three nodes under *TruliaStats*.  We will explore these sequentially, starting with trafficStats. "
   ]
  },
  {
   "cell_type": "code",
   "execution_count": null,
   "metadata": {
    "collapsed": false,
    "scrolled": false
   },
   "outputs": [],
   "source": [
    "traffic = state_tree.find('.//trafficStats')"
   ]
  },
  {
   "cell_type": "code",
   "execution_count": null,
   "metadata": {
    "collapsed": false,
    "scrolled": true
   },
   "outputs": [],
   "source": [
    "for child in traffic:\n",
    "    print child.tag, child.attrib, child.text"
   ]
  },
  {
   "cell_type": "markdown",
   "metadata": {},
   "source": [
    "Beneith the *trafficStats* node we have a group of nodes named *trafficStat*.  Now we look at one of these nodes to explore how the data is stored. "
   ]
  },
  {
   "cell_type": "code",
   "execution_count": null,
   "metadata": {
    "collapsed": false,
    "scrolled": false
   },
   "outputs": [],
   "source": [
    "traffic_data = traffic.find(\"trafficStat\")"
   ]
  },
  {
   "cell_type": "code",
   "execution_count": null,
   "metadata": {
    "collapsed": false,
    "scrolled": false
   },
   "outputs": [],
   "source": [
    "for child in traffic_data:\n",
    "    print child.tag, child.attrib, child.text"
   ]
  },
  {
   "cell_type": "markdown",
   "metadata": {},
   "source": [
    "This is as far down as we need to go on the state traffic data.  We can now develop code to parse all the returned records!.  "
   ]
  },
  {
   "cell_type": "code",
   "execution_count": null,
   "metadata": {
    "collapsed": false,
    "scrolled": false
   },
   "outputs": [],
   "source": [
    "# KEEP THIS CODE\n",
    "traffic_data_collect = state_tree.findall(\".//trafficStat\")\n",
    "\n",
    "storage = {\"date\":[], \"value\":[]} # Create storage variable\n",
    "\n",
    "for i in traffic_data_collect:\n",
    "    date = i.find(\"date\").text\n",
    "    storage[\"date\"].append(date)\n",
    "    \n",
    "    val = i.find(\"percentNationalTraffic\").text\n",
    "    storage[\"value\"].append(val)\n"
   ]
  },
  {
   "cell_type": "code",
   "execution_count": null,
   "metadata": {
    "collapsed": false,
    "scrolled": true
   },
   "outputs": [],
   "source": [
    "print storage"
   ]
  },
  {
   "cell_type": "markdown",
   "metadata": {
    "collapsed": true
   },
   "source": [
    "Now that we have parsed the trafic data we need to explore the listing data. \n",
    "We'll start by finding the children under listing data. "
   ]
  },
  {
   "cell_type": "code",
   "execution_count": null,
   "metadata": {
    "collapsed": false,
    "scrolled": true
   },
   "outputs": [],
   "source": [
    "listingstats = state_tree.find(\".//listingStats\")\n",
    "for child in listingstats:\n",
    "    print child.tag, child.attrib, child.text"
   ]
  },
  {
   "cell_type": "code",
   "execution_count": null,
   "metadata": {
    "collapsed": false
   },
   "outputs": [],
   "source": [
    "listing = state_tree.find(\".//listingStat\")\n",
    "for child in listing:\n",
    "    print child.tag, child.attrib, child.text"
   ]
  },
  {
   "cell_type": "code",
   "execution_count": null,
   "metadata": {
    "collapsed": false,
    "scrolled": false
   },
   "outputs": [],
   "source": [
    "listingPrice = state_tree.find(\".//listingPrice\")\n",
    "for child in listingPrice:\n",
    "    print child.tag, child.attrib, child.text"
   ]
  },
  {
   "cell_type": "code",
   "execution_count": null,
   "metadata": {
    "collapsed": false
   },
   "outputs": [],
   "source": [
    "subcat = state_tree.find(\".//subcategory\")\n",
    "for child in subcat:\n",
    "    print child.tag, child.attrib, child.text"
   ]
  },
  {
   "cell_type": "markdown",
   "metadata": {},
   "source": [
    "The data of interest is with in the subcategory tags.  We also need to keep the text from the weekEndingDate tag.  \n",
    "To correctly parse this we will need to go back up to the listing stat tag.  From there we will obtain the end date which we will use with each listing category"
   ]
  },
  {
   "cell_type": "code",
   "execution_count": null,
   "metadata": {
    "collapsed": false
   },
   "outputs": [],
   "source": [
    "listing_data = state_tree.findall(\".//listingStat\")\n",
    "\n",
    "storage = {\"date\":[], \"type\":[], \"properties\":[], \"medianPrice\":[], \"avgPrice\":[]}\n",
    "\n",
    "for records in listing_data:\n",
    "    record_date = records.find(\"weekEndingDate\").text # Extract record date\n",
    "    #print record_date\n",
    "    categories = records.findall(\".//subcategory\") # Find all subcategory for the given weekend date\n",
    "    \n",
    "    for category in categories:\n",
    "        storage[\"date\"].append(record_date) \n",
    "\n",
    "        tp = category.find(\"type\").text\n",
    "        storage[\"type\"].append(tp)\n",
    "        \n",
    "        prop = category.find(\"numberOfProperties\").text\n",
    "        storage[\"properties\"].append(prop)\n",
    "        \n",
    "        median = category.find(\"medianListingPrice\").text\n",
    "        storage[\"medianPrice\"].append(median)\n",
    "        \n",
    "        avg = category.find(\"averageListingPrice\").text\n",
    "        storage[\"avgPrice\"].append(avg)\n",
    "        \n",
    "    \n",
    "    "
   ]
  },
  {
   "cell_type": "code",
   "execution_count": null,
   "metadata": {
    "collapsed": false
   },
   "outputs": [],
   "source": [
    "print storage"
   ]
  },
  {
   "cell_type": "markdown",
   "metadata": {},
   "source": [
    "Now we just need to turn this dictonary into an array. "
   ]
  },
  {
   "cell_type": "markdown",
   "metadata": {},
   "source": [
    "### Parsing `getCityStats`"
   ]
  },
  {
   "cell_type": "code",
   "execution_count": null,
   "metadata": {
    "collapsed": true
   },
   "outputs": [],
   "source": [
    "x = api.city_stats(\"Seattle\", \"WA\", '2016-01-01', '2016-01-09', #API KEY HERE)"
   ]
  },
  {
   "cell_type": "code",
   "execution_count": null,
   "metadata": {
    "collapsed": false
   },
   "outputs": [],
   "source": [
    "city_data = et.fromstring(x) # Create Element from string\n",
    "city_tree = et.ElementTree(city_data) # Convert Element to Element Tree"
   ]
  },
  {
   "cell_type": "code",
   "execution_count": null,
   "metadata": {
    "collapsed": false
   },
   "outputs": [],
   "source": [
    "# KEEP THIS CODE \n",
    "listing_data = city_tree.findall(\".//listingStat\")\n",
    "\n",
    "storage = {\"date\":[], \"type\":[], \"properties\":[], \"medianPrice\":[], \"avgPrice\":[]}\n",
    "for records in listing_data:\n",
    "    record_date = records.find(\"weekEndingDate\").text # Extract record date\n",
    "    #print record_date\n",
    "    categories = records.findall(\".//subcategory\") # Find all subcategory for the given weekend date\n",
    "    \n",
    "    for category in categories:\n",
    "        storage[\"date\"].append(record_date) \n",
    "\n",
    "        tp = category.find(\"type\").text\n",
    "        storage[\"type\"].append(tp)\n",
    "        \n",
    "        prop = category.find(\"numberOfProperties\").text\n",
    "        storage[\"properties\"].append(prop)\n",
    "        \n",
    "        median = category.find(\"medianListingPrice\").text\n",
    "        storage[\"medianPrice\"].append(median)\n",
    "        \n",
    "        avg = category.find(\"averageListingPrice\").text\n",
    "        storage[\"avgPrice\"].append(avg)"
   ]
  },
  {
   "cell_type": "code",
   "execution_count": null,
   "metadata": {
    "collapsed": false
   },
   "outputs": [],
   "source": [
    "print storage"
   ]
  },
  {
   "cell_type": "markdown",
   "metadata": {
    "collapsed": true
   },
   "source": [
    "### Parse listing data from `getZipCodeStats`"
   ]
  },
  {
   "cell_type": "code",
   "execution_count": null,
   "metadata": {
    "collapsed": false
   },
   "outputs": [],
   "source": [
    "zip_string = api.zip_stats('20002', \"2016-01-01\", \"2016-01-09\", #API KEY HERE)"
   ]
  },
  {
   "cell_type": "code",
   "execution_count": null,
   "metadata": {
    "collapsed": false
   },
   "outputs": [],
   "source": [
    "zip_data = et.fromstring(zip_string) # Create Element from string\n",
    "zip_tree = et.ElementTree(zip_data) # Convert Element to Element Tree"
   ]
  },
  {
   "cell_type": "code",
   "execution_count": null,
   "metadata": {
    "collapsed": true
   },
   "outputs": [],
   "source": [
    "zip_listing = zip_tree.find(\".//listingStat\")"
   ]
  },
  {
   "cell_type": "code",
   "execution_count": null,
   "metadata": {
    "collapsed": false
   },
   "outputs": [],
   "source": [
    "for child in zip_listing:\n",
    "    print child.tag, child.attrib, child.text"
   ]
  },
  {
   "cell_type": "code",
   "execution_count": null,
   "metadata": {
    "collapsed": false
   },
   "outputs": [],
   "source": [
    "listing = zip_listing.find(\"listingPrice\")\n",
    "for child in listing:\n",
    "    print child.tag, child.attrib, child.text"
   ]
  },
  {
   "cell_type": "code",
   "execution_count": null,
   "metadata": {
    "collapsed": false
   },
   "outputs": [],
   "source": [
    "cat = listing.find(\"subcategory\")\n",
    "\n",
    "for child in cat:\n",
    "    print child.tag, child.attrib, child.text"
   ]
  },
  {
   "cell_type": "code",
   "execution_count": null,
   "metadata": {
    "collapsed": false
   },
   "outputs": [],
   "source": [
    "listing_data = zip_tree.findall(\".//listingStat\")\n",
    "\n",
    "storage = {\"date\":[], \"type\":[], \"properties\":[], \"medianPrice\":[], \"avgPrice\":[]}\n",
    "\n",
    "for records in listing_data:\n",
    "    record_date = records.find(\"weekEndingDate\").text\n",
    "    \n",
    "    categories = records.findall(\".//subcategory\")\n",
    "    for category in categories:\n",
    "        storage[\"date\"].append(record_date) \n",
    "\n",
    "        tp = category.find(\"type\").text\n",
    "        storage[\"type\"].append(tp)\n",
    "        \n",
    "        prop = category.find(\"numberOfProperties\").text\n",
    "        storage[\"properties\"].append(prop)\n",
    "        \n",
    "        median = category.find(\"medianListingPrice\").text\n",
    "        storage[\"medianPrice\"].append(median)\n",
    "        \n",
    "        avg = category.find(\"averageListingPrice\").text\n",
    "        storage[\"avgPrice\"].append(avg)"
   ]
  },
  {
   "cell_type": "code",
   "execution_count": null,
   "metadata": {
    "collapsed": false
   },
   "outputs": [],
   "source": [
    "print storage[\"date\"], storage[\"medianPrice\"]"
   ]
  },
  {
   "cell_type": "code",
   "execution_count": null,
   "metadata": {
    "collapsed": true
   },
   "outputs": [],
   "source": []
  }
 ],
 "metadata": {
  "kernelspec": {
   "display_name": "Python 2",
   "language": "python",
   "name": "python2"
  },
  "language_info": {
   "codemirror_mode": {
    "name": "ipython",
    "version": 2
   },
   "file_extension": ".py",
   "mimetype": "text/x-python",
   "name": "python",
   "nbconvert_exporter": "python",
   "pygments_lexer": "ipython2",
   "version": "2.7.12"
  }
 },
 "nbformat": 4,
 "nbformat_minor": 0
}
